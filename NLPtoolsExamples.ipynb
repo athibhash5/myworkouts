{
  "nbformat": 4,
  "nbformat_minor": 0,
  "metadata": {
    "colab": {
      "provenance": [],
      "authorship_tag": "ABX9TyNY3UdyQcNZ1piK0davpmaC",
      "include_colab_link": true
    },
    "kernelspec": {
      "name": "python3",
      "display_name": "Python 3"
    },
    "language_info": {
      "name": "python"
    }
  },
  "cells": [
    {
      "cell_type": "markdown",
      "metadata": {
        "id": "view-in-github",
        "colab_type": "text"
      },
      "source": [
        "<a href=\"https://colab.research.google.com/github/athibhash5/myworkouts/blob/main/NLPtoolsExamples.ipynb\" target=\"_parent\"><img src=\"https://colab.research.google.com/assets/colab-badge.svg\" alt=\"Open In Colab\"/></a>"
      ]
    },
    {
      "cell_type": "markdown",
      "source": [
        "##**NLP**(Natural Language Processing)"
      ],
      "metadata": {
        "id": "Nr-KazbLicwU"
      }
    },
    {
      "cell_type": "code",
      "execution_count": null,
      "metadata": {
        "id": "qLFFHs4yiX0Z"
      },
      "outputs": [],
      "source": [
        "#1. Stop Word Removel"
      ]
    },
    {
      "cell_type": "code",
      "source": [
        "import nltk                                                 #natural language toolkit\n",
        "nltk.download(('stopwords'))\n",
        "from nltk.corpus import stopwords\n",
        "english_stopwords=stopwords.words('english')                #can give any language\n",
        "print(english_stopwords)"
      ],
      "metadata": {
        "colab": {
          "base_uri": "https://localhost:8080/"
        },
        "id": "OfF63xU9ip-I",
        "outputId": "afb14daf-23df-4e7c-a433-31fd67cf2c49"
      },
      "execution_count": 11,
      "outputs": [
        {
          "output_type": "stream",
          "name": "stdout",
          "text": [
            "['i', 'me', 'my', 'myself', 'we', 'our', 'ours', 'ourselves', 'you', \"you're\", \"you've\", \"you'll\", \"you'd\", 'your', 'yours', 'yourself', 'yourselves', 'he', 'him', 'his', 'himself', 'she', \"she's\", 'her', 'hers', 'herself', 'it', \"it's\", 'its', 'itself', 'they', 'them', 'their', 'theirs', 'themselves', 'what', 'which', 'who', 'whom', 'this', 'that', \"that'll\", 'these', 'those', 'am', 'is', 'are', 'was', 'were', 'be', 'been', 'being', 'have', 'has', 'had', 'having', 'do', 'does', 'did', 'doing', 'a', 'an', 'the', 'and', 'but', 'if', 'or', 'because', 'as', 'until', 'while', 'of', 'at', 'by', 'for', 'with', 'about', 'against', 'between', 'into', 'through', 'during', 'before', 'after', 'above', 'below', 'to', 'from', 'up', 'down', 'in', 'out', 'on', 'off', 'over', 'under', 'again', 'further', 'then', 'once', 'here', 'there', 'when', 'where', 'why', 'how', 'all', 'any', 'both', 'each', 'few', 'more', 'most', 'other', 'some', 'such', 'no', 'nor', 'not', 'only', 'own', 'same', 'so', 'than', 'too', 'very', 's', 't', 'can', 'will', 'just', 'don', \"don't\", 'should', \"should've\", 'now', 'd', 'll', 'm', 'o', 're', 've', 'y', 'ain', 'aren', \"aren't\", 'couldn', \"couldn't\", 'didn', \"didn't\", 'doesn', \"doesn't\", 'hadn', \"hadn't\", 'hasn', \"hasn't\", 'haven', \"haven't\", 'isn', \"isn't\", 'ma', 'mightn', \"mightn't\", 'mustn', \"mustn't\", 'needn', \"needn't\", 'shan', \"shan't\", 'shouldn', \"shouldn't\", 'wasn', \"wasn't\", 'weren', \"weren't\", 'won', \"won't\", 'wouldn', \"wouldn't\"]\n"
          ]
        },
        {
          "output_type": "stream",
          "name": "stderr",
          "text": [
            "[nltk_data] Downloading package stopwords to /root/nltk_data...\n",
            "[nltk_data]   Package stopwords is already up-to-date!\n"
          ]
        }
      ]
    },
    {
      "cell_type": "markdown",
      "source": [
        "\n",
        "Here using the Natural Language Toolkit (nltk) in Python to download the stopwords for the English language and then accessing the list of stopwords."
      ],
      "metadata": {
        "id": "90a8jFkfkeZ2"
      }
    },
    {
      "cell_type": "code",
      "source": [
        "#2.Tokenization"
      ],
      "metadata": {
        "id": "M_jB8I-BiqNk"
      },
      "execution_count": null,
      "outputs": []
    },
    {
      "cell_type": "code",
      "source": [
        "import nltk\n",
        "nltk.download('punkt')                         # Downloads the 'punkt' tokenizer data\n",
        "sentence='Tokenization refers To a process by which a piece of sensitive data, such as a credit card number. Is replaced by a surrogate value known as a token. The sensitive data still generally needs to be stored securely at one centralized location for subsequent reference and requires strong protections around it.'\n",
        "tokens=nltk.word_tokenize(sentence)            # Tokenizes the sentence into a list of words\n",
        "print(tokens)\n"
      ],
      "metadata": {
        "colab": {
          "base_uri": "https://localhost:8080/"
        },
        "id": "7w5dup4TiqSA",
        "outputId": "e506becb-3f16-4bf8-c841-caf57d3f7f3d"
      },
      "execution_count": 21,
      "outputs": [
        {
          "output_type": "stream",
          "name": "stdout",
          "text": [
            "['Tokenization', 'refers', 'To', 'a', 'process', 'by', 'which', 'a', 'piece', 'of', 'sensitive', 'data', ',', 'such', 'as', 'a', 'credit', 'card', 'number', '.', 'Is', 'replaced', 'by', 'a', 'surrogate', 'value', 'known', 'as', 'a', 'token', '.', 'The', 'sensitive', 'data', 'still', 'generally', 'needs', 'to', 'be', 'stored', 'securely', 'at', 'one', 'centralized', 'location', 'for', 'subsequent', 'reference', 'and', 'requires', 'strong', 'protections', 'around', 'it', '.']\n"
          ]
        },
        {
          "output_type": "stream",
          "name": "stderr",
          "text": [
            "[nltk_data] Downloading package punkt to /root/nltk_data...\n",
            "[nltk_data]   Package punkt is already up-to-date!\n"
          ]
        }
      ]
    },
    {
      "cell_type": "code",
      "source": [
        "from nltk.tokenize import sent_tokenize            #sentence tokenization\n",
        "a=sent_tokenize(sentence)\n",
        "print(a)\n"
      ],
      "metadata": {
        "colab": {
          "base_uri": "https://localhost:8080/"
        },
        "id": "NKO_higWiqVg",
        "outputId": "0f910717-4f19-455f-b97e-1f651c17c5eb"
      },
      "execution_count": 22,
      "outputs": [
        {
          "output_type": "stream",
          "name": "stdout",
          "text": [
            "['Tokenization refers To a process by which a piece of sensitive data, such as a credit card number.', 'Is replaced by a surrogate value known as a token.', 'The sensitive data still generally needs to be stored securely at one centralized location for subsequent reference and requires strong protections around it.']\n"
          ]
        }
      ]
    },
    {
      "cell_type": "code",
      "source": [
        "#3.word tokenization and stop word removel"
      ],
      "metadata": {
        "id": "lqih35mViqYR"
      },
      "execution_count": null,
      "outputs": []
    },
    {
      "cell_type": "code",
      "source": [
        "from nltk.corpus import stopwords\n",
        "from nltk.tokenize import word_tokenize\n",
        "stopwordss=set(stopwords.words('english'))\n",
        "tokens=word_tokenize(sentence)                                    #tokenizes the input sentence into a list of words.\n",
        "wordss=[w.lower() for w in tokens if w.lower() not in stopwordss] #here convert words into lowercase ,then apply condition (convert the sentence to lower that are not in stopwords,ie skip the stopwords)\n",
        "print(wordss)"
      ],
      "metadata": {
        "colab": {
          "base_uri": "https://localhost:8080/"
        },
        "id": "dSoewXYfiqaz",
        "outputId": "ddd1e736-4871-452a-b272-4f6b03dd0f4e"
      },
      "execution_count": 24,
      "outputs": [
        {
          "output_type": "stream",
          "name": "stdout",
          "text": [
            "['tokenization', 'refers', 'process', 'piece', 'sensitive', 'data', ',', 'credit', 'card', 'number', '.', 'replaced', 'surrogate', 'value', 'known', 'token', '.', 'sensitive', 'data', 'still', 'generally', 'needs', 'stored', 'securely', 'one', 'centralized', 'location', 'subsequent', 'reference', 'requires', 'strong', 'protections', 'around', '.']\n"
          ]
        }
      ]
    },
    {
      "cell_type": "markdown",
      "source": [
        " Here code imports the necessary modules from nltk, downloads the English stopwords, tokenizes the sentence, and then filters out the stopwords, converting the remaining words to lowercase"
      ],
      "metadata": {
        "id": "hZ2_sBdHt6Ox"
      }
    },
    {
      "cell_type": "code",
      "source": [
        "import nltk\n",
        "from nltk.util import ngrams\n",
        "ngramss=ngrams(sequence=nltk.word_tokenize(sentence),n=2)  #The output of this code will be pairs of consecutive words from the sentence, representing the bigrams.\n",
        "for grams in ngramss:\n",
        "  print(grams)"
      ],
      "metadata": {
        "colab": {
          "base_uri": "https://localhost:8080/"
        },
        "id": "_IRrLtyOiqdZ",
        "outputId": "138e756c-0cc8-4422-ff40-81a3a99a4702"
      },
      "execution_count": 28,
      "outputs": [
        {
          "output_type": "stream",
          "name": "stdout",
          "text": [
            "('Tokenization', 'refers')\n",
            "('refers', 'To')\n",
            "('To', 'a')\n",
            "('a', 'process')\n",
            "('process', 'by')\n",
            "('by', 'which')\n",
            "('which', 'a')\n",
            "('a', 'piece')\n",
            "('piece', 'of')\n",
            "('of', 'sensitive')\n",
            "('sensitive', 'data')\n",
            "('data', ',')\n",
            "(',', 'such')\n",
            "('such', 'as')\n",
            "('as', 'a')\n",
            "('a', 'credit')\n",
            "('credit', 'card')\n",
            "('card', 'number')\n",
            "('number', '.')\n",
            "('.', 'Is')\n",
            "('Is', 'replaced')\n",
            "('replaced', 'by')\n",
            "('by', 'a')\n",
            "('a', 'surrogate')\n",
            "('surrogate', 'value')\n",
            "('value', 'known')\n",
            "('known', 'as')\n",
            "('as', 'a')\n",
            "('a', 'token')\n",
            "('token', '.')\n",
            "('.', 'The')\n",
            "('The', 'sensitive')\n",
            "('sensitive', 'data')\n",
            "('data', 'still')\n",
            "('still', 'generally')\n",
            "('generally', 'needs')\n",
            "('needs', 'to')\n",
            "('to', 'be')\n",
            "('be', 'stored')\n",
            "('stored', 'securely')\n",
            "('securely', 'at')\n",
            "('at', 'one')\n",
            "('one', 'centralized')\n",
            "('centralized', 'location')\n",
            "('location', 'for')\n",
            "('for', 'subsequent')\n",
            "('subsequent', 'reference')\n",
            "('reference', 'and')\n",
            "('and', 'requires')\n",
            "('requires', 'strong')\n",
            "('strong', 'protections')\n",
            "('protections', 'around')\n",
            "('around', 'it')\n",
            "('it', '.')\n"
          ]
        }
      ]
    },
    {
      "cell_type": "markdown",
      "source": [
        "A bigram is a sequence of two adjacent elements (words, in this case) in a given text. By setting n=2, you are instructing the nltk.util.ngrams function to generate bigrams. If you were to set n=3, it would generate trigrams"
      ],
      "metadata": {
        "id": "1h98208cvGqT"
      }
    },
    {
      "cell_type": "code",
      "source": [
        "#4.Stemming (changing long words into meaningful short words)"
      ],
      "metadata": {
        "id": "pyEsbokoiqgZ"
      },
      "execution_count": null,
      "outputs": []
    },
    {
      "cell_type": "code",
      "source": [
        " #4.1 Porter stemmer"
      ],
      "metadata": {
        "id": "Djq4wZRfiqjr"
      },
      "execution_count": null,
      "outputs": []
    },
    {
      "cell_type": "code",
      "source": [
        "from nltk.stem import PorterStemmer\n",
        "from nltk.tokenize import word_tokenize\n",
        "ps=PorterStemmer()\n",
        "words=['program','programs','programmer','programming','thought']\n",
        "for w in words:\n",
        "  print(w,\":\",ps.stem(w))\n"
      ],
      "metadata": {
        "colab": {
          "base_uri": "https://localhost:8080/"
        },
        "id": "OrGcLugniqnK",
        "outputId": "b8910b9e-9895-4402-a780-919b34df2646"
      },
      "execution_count": 29,
      "outputs": [
        {
          "output_type": "stream",
          "name": "stdout",
          "text": [
            "program : program\n",
            "programs : program\n",
            "programmer : programm\n",
            "programming : program\n",
            "thought : thought\n"
          ]
        }
      ]
    },
    {
      "cell_type": "code",
      "source": [
        "  #4.2 Snowball Stemmer"
      ],
      "metadata": {
        "id": "COLAgIDRiqwg"
      },
      "execution_count": 31,
      "outputs": []
    },
    {
      "cell_type": "code",
      "source": [
        "from nltk.stem import SnowballStemmer\n",
        "sb=SnowballStemmer('english')\n",
        "for i in words:\n",
        "  print(i,\":\",sb.stem(i))"
      ],
      "metadata": {
        "colab": {
          "base_uri": "https://localhost:8080/"
        },
        "id": "4Y0InQC3iq2H",
        "outputId": "f4ae3156-cc72-4fab-cbe4-cc356ecd53a9"
      },
      "execution_count": 32,
      "outputs": [
        {
          "output_type": "stream",
          "name": "stdout",
          "text": [
            "program : program\n",
            "programs : program\n",
            "programmer : programm\n",
            "programming : program\n",
            "thought : thought\n"
          ]
        }
      ]
    },
    {
      "cell_type": "code",
      "source": [
        "#5.Lemmetization"
      ],
      "metadata": {
        "id": "w24AYmS-iq5D"
      },
      "execution_count": null,
      "outputs": []
    },
    {
      "cell_type": "code",
      "source": [
        "from nltk.stem import WordNetLemmatizer\n",
        "nltk.download('wordnet')\n",
        "nltk.download('omw-1.4')\n",
        "lem=WordNetLemmatizer()\n",
        "print('rocks:',lem.lemmatize('rocks'))\n",
        "print('corpora:',lem.lemmatize('corpora'))"
      ],
      "metadata": {
        "colab": {
          "base_uri": "https://localhost:8080/"
        },
        "id": "cbpwdowE0CcS",
        "outputId": "a05ec8d9-9a98-43c8-e1e8-78d303475b0a"
      },
      "execution_count": 35,
      "outputs": [
        {
          "output_type": "stream",
          "name": "stdout",
          "text": [
            "rocks: rock\n",
            "corpora: corpus\n"
          ]
        },
        {
          "output_type": "stream",
          "name": "stderr",
          "text": [
            "[nltk_data] Downloading package wordnet to /root/nltk_data...\n",
            "[nltk_data]   Package wordnet is already up-to-date!\n",
            "[nltk_data] Downloading package omw-1.4 to /root/nltk_data...\n",
            "[nltk_data]   Package omw-1.4 is already up-to-date!\n"
          ]
        }
      ]
    },
    {
      "cell_type": "markdown",
      "source": [
        "While stemming involves chopping off suffixes to obtain a word's root, lemmatization considers the word's context and meaning to find its base form.\n",
        "\n",
        " words = [\"running\", \"flies\", \"happily\"]\n",
        "\n",
        "**Stemming** may result in stems that are not valid words.\n",
        "['run', 'fli', 'happili']\n",
        "\n",
        "**Lemmatization** produces lemmas that are more likely to be valid words and retains the semantic meaning by considering the context and part of speech.\n",
        "['running', 'fly', 'happily']\n"
      ],
      "metadata": {
        "id": "Y-oAGbLZy6Bx"
      }
    },
    {
      "cell_type": "code",
      "source": [],
      "metadata": {
        "id": "atrKwexF0CpJ"
      },
      "execution_count": null,
      "outputs": []
    },
    {
      "cell_type": "code",
      "source": [],
      "metadata": {
        "id": "ST5TmVir0CsP"
      },
      "execution_count": null,
      "outputs": []
    },
    {
      "cell_type": "code",
      "source": [],
      "metadata": {
        "id": "t6DvGaNa0Cvn"
      },
      "execution_count": null,
      "outputs": []
    },
    {
      "cell_type": "code",
      "source": [],
      "metadata": {
        "id": "DkeuqqNS0C3F"
      },
      "execution_count": null,
      "outputs": []
    },
    {
      "cell_type": "code",
      "source": [],
      "metadata": {
        "id": "QMbfwBxTiq76"
      },
      "execution_count": null,
      "outputs": []
    },
    {
      "cell_type": "code",
      "source": [],
      "metadata": {
        "id": "SiYJpAkViq-a"
      },
      "execution_count": null,
      "outputs": []
    },
    {
      "cell_type": "code",
      "source": [],
      "metadata": {
        "id": "3lvWJre_irBM"
      },
      "execution_count": null,
      "outputs": []
    },
    {
      "cell_type": "code",
      "source": [],
      "metadata": {
        "id": "kfd23gN0irEh"
      },
      "execution_count": null,
      "outputs": []
    }
  ]
}