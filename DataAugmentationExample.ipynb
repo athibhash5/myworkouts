{
 "cells": [
  {
   "cell_type": "code",
   "execution_count": 6,
   "id": "21d7712f-4d48-441f-95d7-892cf1be1db4",
   "metadata": {},
   "outputs": [],
   "source": [
    "#Data Augmentation: Data augmentation is a technique of artificially increasing the training set by creating modified copies of a dataset using existing data."
   ]
  },
  {
   "cell_type": "code",
   "execution_count": 7,
   "id": "8c667a52-6282-4c0b-b4a1-c5c4cd09420d",
   "metadata": {},
   "outputs": [],
   "source": [
    "from tensorflow.keras.utils import img_to_array,array_to_img, load_img\n",
    "from keras.preprocessing.image import ImageDataGenerator"
   ]
  },
  {
   "cell_type": "code",
   "execution_count": null,
   "id": "cd77a20c-abd0-4d8b-83e7-593e40a0f84b",
   "metadata": {},
   "outputs": [],
   "source": [
    "# Set up data augmentation parameters"
   ]
  },
  {
   "cell_type": "code",
   "execution_count": 11,
   "id": "424c0ee6-4550-41ec-8bb0-f7d0e3be05b5",
   "metadata": {},
   "outputs": [
    {
     "name": "stdout",
     "output_type": "stream",
     "text": [
      "(1, 800, 1200, 3)\n"
     ]
    }
   ],
   "source": [
    "datagen=ImageDataGenerator(rotation_range=40,width_shift_range=0.2,shear_range=0.2,horizontal_flip=True,fill_mode='nearest')\n",
    "img=load_img('flower.jpg.jpg')           # Load an image\n",
    "x=img_to_array(img)                      # Convert the image to a NumPy array\n",
    "x=x.reshape((1,)+x.shape)                # Reshape the array to (1, height, width, channels)\n",
    "print(x.shape)                           # Display the shape of the reshaped array\n"
   ]
  },
  {
   "cell_type": "code",
   "execution_count": 13,
   "id": "eb17fb65-5e39-4e05-9a08-6278e63379b7",
   "metadata": {},
   "outputs": [],
   "source": [
    "i=0\n",
    "for batch in datagen.flow(x,batch_size=1,save_to_dir='images',save_prefix='flower',save_format='jpeg'):\n",
    "    i+=1\n",
    "    if i>20:\n",
    "        break"
   ]
  },
  {
   "cell_type": "code",
   "execution_count": null,
   "id": "8a661242-2971-4557-aaea-eab6e3fdae04",
   "metadata": {},
   "outputs": [],
   "source": [
    "#x is the original image, \n",
    "#batch_size=1 specifies that you want to generate one image at a time, and the augmented images are saved to the 'images' directory with filenames starting with 'flower' and in JPEG format."
   ]
  }
 ],
 "metadata": {
  "kernelspec": {
   "display_name": "Python 3 (ipykernel)",
   "language": "python",
   "name": "python3"
  },
  "language_info": {
   "codemirror_mode": {
    "name": "ipython",
    "version": 3
   },
   "file_extension": ".py",
   "mimetype": "text/x-python",
   "name": "python",
   "nbconvert_exporter": "python",
   "pygments_lexer": "ipython3",
   "version": "3.9.18"
  }
 },
 "nbformat": 4,
 "nbformat_minor": 5
}
