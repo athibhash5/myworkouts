{
  "cells": [
    {
      "cell_type": "markdown",
      "metadata": {
        "id": "view-in-github",
        "colab_type": "text"
      },
      "source": [
        "<a href=\"https://colab.research.google.com/github/athibhash5/myworkouts/blob/main/TNNExample.ipynb\" target=\"_parent\"><img src=\"https://colab.research.google.com/assets/colab-badge.svg\" alt=\"Open In Colab\"/></a>"
      ]
    },
    {
      "cell_type": "code",
      "source": [
        "from google.colab import drive\n",
        "drive.mount('/content/drive')"
      ],
      "metadata": {
        "colab": {
          "base_uri": "https://localhost:8080/"
        },
        "id": "9pQz82_9mYhq",
        "outputId": "9cbffcd8-fdaf-4c04-983c-6516fb5877ff"
      },
      "id": "9pQz82_9mYhq",
      "execution_count": 20,
      "outputs": [
        {
          "output_type": "stream",
          "name": "stdout",
          "text": [
            "Mounted at /content/drive\n"
          ]
        }
      ]
    },
    {
      "cell_type": "code",
      "execution_count": null,
      "id": "c79d5cf3-dea8-4f31-9122-d1d51cc5ed36",
      "metadata": {
        "id": "c79d5cf3-dea8-4f31-9122-d1d51cc5ed36"
      },
      "outputs": [],
      "source": [
        "import os"
      ]
    },
    {
      "cell_type": "code",
      "execution_count": 21,
      "id": "32865a18-4422-4fcb-8492-c567db4e6c74",
      "metadata": {
        "id": "32865a18-4422-4fcb-8492-c567db4e6c74"
      },
      "outputs": [],
      "source": [
        "from keras.layers import Input,Dense,Flatten\n",
        "from keras.models import Model\n",
        "from keras.applications.vgg16 import VGG16\n",
        "from keras.applications.vgg16 import preprocess_input\n",
        "from keras.preprocessing import image\n",
        "from keras.preprocessing.image import ImageDataGenerator\n",
        "from keras.models import Sequential\n",
        "import numpy as np\n",
        "import matplotlib.pyplot as plt\n"
      ]
    },
    {
      "cell_type": "code",
      "execution_count": 22,
      "id": "2e208d4a-4563-44f3-bff9-070487ded259",
      "metadata": {
        "id": "2e208d4a-4563-44f3-bff9-070487ded259"
      },
      "outputs": [],
      "source": [
        "IMAGE_SIZE=[224,224]\n",
        "trainpath='/content/drive/MyDrive/Data Science/Deep Learning/maskdataset'\n",
        "testpath='/content/drive/MyDrive/Data Science/Deep Learning/testmaskdata'\n",
        "vgg=VGG16(input_shape=IMAGE_SIZE+[3],weights='imagenet',include_top=False)\n"
      ]
    },
    {
      "cell_type": "code",
      "source": [
        "#/content/drive/MyDrive/Data Science/Deep Learning/maskdataset\n",
        "#/content/drive/MyDrive/Data Science/Deep Learning/testmaskdata"
      ],
      "metadata": {
        "id": "vltNCcCkjYVj"
      },
      "id": "vltNCcCkjYVj",
      "execution_count": null,
      "outputs": []
    },
    {
      "cell_type": "code",
      "execution_count": null,
      "id": "f4649be0-bc6c-4868-80b9-824b77f5baef",
      "metadata": {
        "id": "f4649be0-bc6c-4868-80b9-824b77f5baef"
      },
      "outputs": [],
      "source": [
        "#'vgg' is a pre-trained VGG model\n",
        "#[3] corresponds to the number of channels (RGB).\n",
        "#weights: This parameter determines the weight initialization of the model. Setting it to 'imagenet' means that the model will be initialized with weights pre-trained on the ImageNet dataset.\n",
        "#include_top: Setting this parameter to False excludes the top (fully connected) layers of the model. This is useful if you want to use the convolutional base of VGG16 for feature extraction but plan to add your own dense layers on top.\n"
      ]
    },
    {
      "cell_type": "code",
      "execution_count": 23,
      "id": "8319e91a-a335-4d88-8cd9-138ed0f51fac",
      "metadata": {
        "id": "8319e91a-a335-4d88-8cd9-138ed0f51fac"
      },
      "outputs": [],
      "source": [
        "for layer in vgg.layers:\n",
        "    layer.trainable=False  #don't train existing weights"
      ]
    },
    {
      "cell_type": "code",
      "execution_count": null,
      "id": "595f7646-9809-4e47-a190-5bd729cfa144",
      "metadata": {
        "id": "595f7646-9809-4e47-a190-5bd729cfa144"
      },
      "outputs": [],
      "source": [
        "#freeze the weights of pre-trained layers to prevent them from being updated during the training of a new model."
      ]
    },
    {
      "cell_type": "code",
      "execution_count": 25,
      "id": "54fea9dc-3a49-45a7-b8f8-237b4d15e5c8",
      "metadata": {
        "colab": {
          "base_uri": "https://localhost:8080/"
        },
        "id": "54fea9dc-3a49-45a7-b8f8-237b4d15e5c8",
        "outputId": "dcce640f-44ef-4ea3-d67e-47ed5713613d"
      },
      "outputs": [
        {
          "output_type": "stream",
          "name": "stdout",
          "text": [
            "Model: \"model_2\"\n",
            "_________________________________________________________________\n",
            " Layer (type)                Output Shape              Param #   \n",
            "=================================================================\n",
            " input_2 (InputLayer)        [(None, 224, 224, 3)]     0         \n",
            "                                                                 \n",
            " block1_conv1 (Conv2D)       (None, 224, 224, 64)      1792      \n",
            "                                                                 \n",
            " block1_conv2 (Conv2D)       (None, 224, 224, 64)      36928     \n",
            "                                                                 \n",
            " block1_pool (MaxPooling2D)  (None, 112, 112, 64)      0         \n",
            "                                                                 \n",
            " block2_conv1 (Conv2D)       (None, 112, 112, 128)     73856     \n",
            "                                                                 \n",
            " block2_conv2 (Conv2D)       (None, 112, 112, 128)     147584    \n",
            "                                                                 \n",
            " block2_pool (MaxPooling2D)  (None, 56, 56, 128)       0         \n",
            "                                                                 \n",
            " block3_conv1 (Conv2D)       (None, 56, 56, 256)       295168    \n",
            "                                                                 \n",
            " block3_conv2 (Conv2D)       (None, 56, 56, 256)       590080    \n",
            "                                                                 \n",
            " block3_conv3 (Conv2D)       (None, 56, 56, 256)       590080    \n",
            "                                                                 \n",
            " block3_pool (MaxPooling2D)  (None, 28, 28, 256)       0         \n",
            "                                                                 \n",
            " block4_conv1 (Conv2D)       (None, 28, 28, 512)       1180160   \n",
            "                                                                 \n",
            " block4_conv2 (Conv2D)       (None, 28, 28, 512)       2359808   \n",
            "                                                                 \n",
            " block4_conv3 (Conv2D)       (None, 28, 28, 512)       2359808   \n",
            "                                                                 \n",
            " block4_pool (MaxPooling2D)  (None, 14, 14, 512)       0         \n",
            "                                                                 \n",
            " block5_conv1 (Conv2D)       (None, 14, 14, 512)       2359808   \n",
            "                                                                 \n",
            " block5_conv2 (Conv2D)       (None, 14, 14, 512)       2359808   \n",
            "                                                                 \n",
            " block5_conv3 (Conv2D)       (None, 14, 14, 512)       2359808   \n",
            "                                                                 \n",
            " block5_pool (MaxPooling2D)  (None, 7, 7, 512)         0         \n",
            "                                                                 \n",
            " flatten_2 (Flatten)         (None, 25088)             0         \n",
            "                                                                 \n",
            " dense_2 (Dense)             (None, 2)                 50178     \n",
            "                                                                 \n",
            "=================================================================\n",
            "Total params: 14764866 (56.32 MB)\n",
            "Trainable params: 50178 (196.01 KB)\n",
            "Non-trainable params: 14714688 (56.13 MB)\n",
            "_________________________________________________________________\n"
          ]
        }
      ],
      "source": [
        "x=Flatten()(vgg.output)                               # Flatten the output of VGG\n",
        "prediction=Dense(2,activation='softmax')(x)           # Add a Dense layer for classification\n",
        "model=Model(inputs=vgg.input,outputs=prediction)      # Create a new model with VGG as the base and your custom layers on top\n",
        "model.summary()"
      ]
    },
    {
      "cell_type": "code",
      "execution_count": 26,
      "id": "dd8fcc64-c38b-4b5d-9f12-8a3d78687f33",
      "metadata": {
        "id": "dd8fcc64-c38b-4b5d-9f12-8a3d78687f33"
      },
      "outputs": [],
      "source": [
        "model.compile(loss='categorical_crossentropy',optimizer='adam',metrics=['accuracy'])\n",
        "from keras.preprocessing.image import ImageDataGenerator\n",
        "train_datagen=ImageDataGenerator(rescale=1./255,shear_range=0.2,zoom_range=0.2,horizontal_flip=True)"
      ]
    },
    {
      "cell_type": "code",
      "execution_count": 27,
      "id": "ff84f82f-eea4-40cd-868a-9871a67997af",
      "metadata": {
        "id": "ff84f82f-eea4-40cd-868a-9871a67997af"
      },
      "outputs": [],
      "source": [
        "#rescale: This parameter scales the pixel values of the images. In this case, it's set to 1./255, which means each pixel value will be divided by 255. This is a standard practice to normalize pixel values to the range [0, 1].\n",
        "#shear_range: This parameter is responsible for shearing transformations, which basically slant the image. It's set to 0.2, meaning that the shearing angle will be randomly chosen from the range [-0.2, 0.2].\n",
        "#zoom_range: This parameter controls the zooming of the image. A zoom_range of 0.2 means that the image can be zoomed in or out by a factor randomly chosen from the range [0.8, 1.2].\n",
        "#horizontal_flip: This parameter enables horizontal flipping of images. If set to True, some of the images will be flipped horizontally.\n"
      ]
    },
    {
      "cell_type": "code",
      "execution_count": 28,
      "id": "a31f066b-1d97-42da-8b38-48bb4dc756ea",
      "metadata": {
        "colab": {
          "base_uri": "https://localhost:8080/"
        },
        "id": "a31f066b-1d97-42da-8b38-48bb4dc756ea",
        "outputId": "0dcfeca3-da4b-4b9a-c224-851c803f675f"
      },
      "outputs": [
        {
          "output_type": "stream",
          "name": "stdout",
          "text": [
            "Found 1374 images belonging to 2 classes.\n"
          ]
        }
      ],
      "source": [
        "test_datagen=ImageDataGenerator(rescale=1./255)\n",
        "training_set=train_datagen.flow_from_directory(trainpath,target_size=(224,224),batch_size=20,class_mode='categorical')\n"
      ]
    },
    {
      "cell_type": "code",
      "execution_count": null,
      "id": "d58cacc1-11f9-4fe7-9d85-72d298cadfdb",
      "metadata": {
        "id": "d58cacc1-11f9-4fe7-9d85-72d298cadfdb"
      },
      "outputs": [],
      "source": [
        "#flow_from_directory: This method generates batches of augmented data from a directory containing images.\n",
        "#batch_size: This parameter determines the size of each batch of images generated by the generator. here set it to 20, meaning each batch will contain 20 images\n",
        "#class_mode: This parameter specifies the type of labels returned by the generator. here  used 'categorical', the generator will return one-hot encoded class labels. This is suitable for multi-class classification problems.\n"
      ]
    },
    {
      "cell_type": "code",
      "execution_count": 29,
      "id": "6119504c-d697-4476-9408-79c93b59d3fd",
      "metadata": {
        "id": "6119504c-d697-4476-9408-79c93b59d3fd",
        "colab": {
          "base_uri": "https://localhost:8080/"
        },
        "outputId": "e4e71a3d-01ef-4a2f-ffac-de6e8e7a8fe7"
      },
      "outputs": [
        {
          "output_type": "stream",
          "name": "stdout",
          "text": [
            "Found 48 images belonging to 2 classes.\n"
          ]
        },
        {
          "output_type": "stream",
          "name": "stderr",
          "text": [
            "<ipython-input-29-f8cb397bced5>:2: UserWarning: `Model.fit_generator` is deprecated and will be removed in a future version. Please use `Model.fit`, which supports generators.\n",
            "  r=model.fit_generator(training_set,validation_data=test_set,epochs=5,steps_per_epoch=len(training_set),validation_steps=len(test_set))\n"
          ]
        },
        {
          "output_type": "stream",
          "name": "stdout",
          "text": [
            "Epoch 1/5\n",
            "69/69 [==============================] - 1014s 15s/step - loss: 0.2137 - accuracy: 0.9163 - val_loss: 0.0221 - val_accuracy: 1.0000\n",
            "Epoch 2/5\n",
            "69/69 [==============================] - 987s 14s/step - loss: 0.0258 - accuracy: 0.9927 - val_loss: 0.0070 - val_accuracy: 1.0000\n",
            "Epoch 3/5\n",
            "69/69 [==============================] - 953s 14s/step - loss: 0.0151 - accuracy: 0.9956 - val_loss: 0.0043 - val_accuracy: 1.0000\n",
            "Epoch 4/5\n",
            "69/69 [==============================] - 951s 14s/step - loss: 0.0119 - accuracy: 0.9978 - val_loss: 0.0033 - val_accuracy: 1.0000\n",
            "Epoch 5/5\n",
            "69/69 [==============================] - 965s 14s/step - loss: 0.0068 - accuracy: 0.9993 - val_loss: 0.0030 - val_accuracy: 1.0000\n"
          ]
        }
      ],
      "source": [
        "test_set=test_datagen.flow_from_directory(testpath,target_size=(224,224),batch_size=20,class_mode='categorical')\n",
        "r=model.fit_generator(training_set,validation_data=test_set,epochs=5,steps_per_epoch=len(training_set),validation_steps=len(test_set))"
      ]
    },
    {
      "cell_type": "code",
      "execution_count": null,
      "id": "4b20a036-e1ca-4949-8e30-f008e985eb01",
      "metadata": {
        "id": "4b20a036-e1ca-4949-8e30-f008e985eb01"
      },
      "outputs": [],
      "source": [
        "#steps_per_epoch: This parameter specifies the number of batches to draw from the generator at each epoch. here set it to len(training_set), which means it will go through the entire training dataset in one epoch.\n"
      ]
    },
    {
      "cell_type": "code",
      "execution_count": 30,
      "id": "d96d98ca-4b3a-4b6c-b130-e464d33748b4",
      "metadata": {
        "id": "d96d98ca-4b3a-4b6c-b130-e464d33748b4",
        "colab": {
          "base_uri": "https://localhost:8080/",
          "height": 430
        },
        "outputId": "22339006-f472-45ad-fa73-2d4240252ebf"
      },
      "outputs": [
        {
          "output_type": "display_data",
          "data": {
            "text/plain": [
              "<Figure size 640x480 with 1 Axes>"
            ],
            "image/png": "[encoded data removed]"
          },
          "metadata": {}
        }
      ],
      "source": [
        "plt.plot(r.history['loss'],label='train loss')\n",
        "plt.plot(r.history['val_loss'],label='val loss')\n",
        "plt.legend()\n",
        "plt.show()\n"
      ]
    },
    {
      "cell_type": "code",
      "execution_count": 31,
      "id": "73b54431-692b-42a5-92e6-b1e105919319",
      "metadata": {
        "id": "73b54431-692b-42a5-92e6-b1e105919319",
        "colab": {
          "base_uri": "https://localhost:8080/",
          "height": 430
        },
        "outputId": "6319b39f-f8ca-42d0-9bbf-faa1a584eec1"
      },
      "outputs": [
        {
          "output_type": "display_data",
          "data": {
            "text/plain": [
              "<Figure size 640x480 with 1 Axes>"
            ],
            "image/png": "[encoded data removed]"
          },
          "metadata": {}
        }
      ],
      "source": [
        "plt.plot(r.history['accuracy'],label='train accuracy')\n",
        "plt.plot(r.history['val_accuracy'],label='val accuracy')\n",
        "plt.legend()\n",
        "plt.show()\n"
      ]
    },
    {
      "cell_type": "code",
      "execution_count": 32,
      "id": "4ecc8df1-be66-47b5-9c3a-8531e7885fe2",
      "metadata": {
        "id": "4ecc8df1-be66-47b5-9c3a-8531e7885fe2",
        "colab": {
          "base_uri": "https://localhost:8080/"
        },
        "outputId": "acdce567-af72-4a5f-defe-1ef743bb759f"
      },
      "outputs": [
        {
          "output_type": "stream",
          "name": "stderr",
          "text": [
            "/usr/local/lib/python3.10/dist-packages/keras/src/engine/training.py:3103: UserWarning: You are saving your model as an HDF5 file via `model.save()`. This file format is considered legacy. We recommend using instead the native Keras format, e.g. `model.save('my_model.keras')`.\n",
            "  saving_api.save_model(\n"
          ]
        }
      ],
      "source": [
        "model.save('built model.h5')"
      ]
    }
  ],
  "metadata": {
    "kernelspec": {
      "display_name": "Python 3 (ipykernel)",
      "language": "python",
      "name": "python3"
    },
    "language_info": {
      "codemirror_mode": {
        "name": "ipython",
        "version": 3
      },
      "file_extension": ".py",
      "mimetype": "text/x-python",
      "name": "python",
      "nbconvert_exporter": "python",
      "pygments_lexer": "ipython3",
      "version": "3.12.0"
    },
    "colab": {
      "provenance": [],
      "include_colab_link": true
    }
  },
  "nbformat": 4,
  "nbformat_minor": 5
}