{
 "cells": [
  {
   "cell_type": "code",
   "execution_count": 2,
   "id": "a1eeb533-8573-4b92-8a5d-859e30337f04",
   "metadata": {},
   "outputs": [
    {
     "data": {
      "text/html": [
       "<div>\n",
       "<style scoped>\n",
       "    .dataframe tbody tr th:only-of-type {\n",
       "        vertical-align: middle;\n",
       "    }\n",
       "\n",
       "    .dataframe tbody tr th {\n",
       "        vertical-align: top;\n",
       "    }\n",
       "\n",
       "    .dataframe thead th {\n",
       "        text-align: right;\n",
       "    }\n",
       "</style>\n",
       "<table border=\"1\" class=\"dataframe\">\n",
       "  <thead>\n",
       "    <tr style=\"text-align: right;\">\n",
       "      <th></th>\n",
       "      <th>Production</th>\n",
       "    </tr>\n",
       "    <tr>\n",
       "      <th>Date</th>\n",
       "      <th></th>\n",
       "    </tr>\n",
       "  </thead>\n",
       "  <tbody>\n",
       "    <tr>\n",
       "      <th>1962-01-01</th>\n",
       "      <td>589</td>\n",
       "    </tr>\n",
       "    <tr>\n",
       "      <th>1962-02-01</th>\n",
       "      <td>561</td>\n",
       "    </tr>\n",
       "    <tr>\n",
       "      <th>1962-03-01</th>\n",
       "      <td>640</td>\n",
       "    </tr>\n",
       "    <tr>\n",
       "      <th>1962-04-01</th>\n",
       "      <td>656</td>\n",
       "    </tr>\n",
       "    <tr>\n",
       "      <th>1962-05-01</th>\n",
       "      <td>727</td>\n",
       "    </tr>\n",
       "    <tr>\n",
       "      <th>...</th>\n",
       "      <td>...</td>\n",
       "    </tr>\n",
       "    <tr>\n",
       "      <th>1975-08-01</th>\n",
       "      <td>858</td>\n",
       "    </tr>\n",
       "    <tr>\n",
       "      <th>1975-09-01</th>\n",
       "      <td>817</td>\n",
       "    </tr>\n",
       "    <tr>\n",
       "      <th>1975-10-01</th>\n",
       "      <td>827</td>\n",
       "    </tr>\n",
       "    <tr>\n",
       "      <th>1975-11-01</th>\n",
       "      <td>797</td>\n",
       "    </tr>\n",
       "    <tr>\n",
       "      <th>1975-12-01</th>\n",
       "      <td>843</td>\n",
       "    </tr>\n",
       "  </tbody>\n",
       "</table>\n",
       "<p>168 rows × 1 columns</p>\n",
       "</div>"
      ],
      "text/plain": [
       "            Production\n",
       "Date                  \n",
       "1962-01-01         589\n",
       "1962-02-01         561\n",
       "1962-03-01         640\n",
       "1962-04-01         656\n",
       "1962-05-01         727\n",
       "...                ...\n",
       "1975-08-01         858\n",
       "1975-09-01         817\n",
       "1975-10-01         827\n",
       "1975-11-01         797\n",
       "1975-12-01         843\n",
       "\n",
       "[168 rows x 1 columns]"
      ]
     },
     "execution_count": 2,
     "metadata": {},
     "output_type": "execute_result"
    }
   ],
   "source": [
    "import pandas as pd\n",
    "import numpy as np\n",
    "import matplotlib.pyplot as plt\n",
    "df=pd.read_csv(\"C:\\\\Users\\\\Athira A R\\\\Desktop\\\\ML\\\\Datasets\\\\monthly_milk_production.csv\",index_col='Date',parse_dates=True)\n",
    "df"
   ]
  },
  {
   "cell_type": "code",
   "execution_count": 3,
   "id": "c1df9a9e-8ff8-401d-8a03-f1bd86910dd9",
   "metadata": {},
   "outputs": [
    {
     "data": {
      "text/plain": [
       "(168, 1)"
      ]
     },
     "execution_count": 3,
     "metadata": {},
     "output_type": "execute_result"
    }
   ],
   "source": [
    "df.shape"
   ]
  },
  {
   "cell_type": "code",
   "execution_count": 4,
   "id": "e31e2c66-1938-4e99-8336-fc18961c7b73",
   "metadata": {},
   "outputs": [
    {
     "data": {
      "text/html": [
       "<div>\n",
       "<style scoped>\n",
       "    .dataframe tbody tr th:only-of-type {\n",
       "        vertical-align: middle;\n",
       "    }\n",
       "\n",
       "    .dataframe tbody tr th {\n",
       "        vertical-align: top;\n",
       "    }\n",
       "\n",
       "    .dataframe thead th {\n",
       "        text-align: right;\n",
       "    }\n",
       "</style>\n",
       "<table border=\"1\" class=\"dataframe\">\n",
       "  <thead>\n",
       "    <tr style=\"text-align: right;\">\n",
       "      <th></th>\n",
       "      <th>Production</th>\n",
       "    </tr>\n",
       "  </thead>\n",
       "  <tbody>\n",
       "    <tr>\n",
       "      <th>count</th>\n",
       "      <td>168.000000</td>\n",
       "    </tr>\n",
       "    <tr>\n",
       "      <th>mean</th>\n",
       "      <td>754.708333</td>\n",
       "    </tr>\n",
       "    <tr>\n",
       "      <th>std</th>\n",
       "      <td>102.204524</td>\n",
       "    </tr>\n",
       "    <tr>\n",
       "      <th>min</th>\n",
       "      <td>553.000000</td>\n",
       "    </tr>\n",
       "    <tr>\n",
       "      <th>25%</th>\n",
       "      <td>677.750000</td>\n",
       "    </tr>\n",
       "    <tr>\n",
       "      <th>50%</th>\n",
       "      <td>761.000000</td>\n",
       "    </tr>\n",
       "    <tr>\n",
       "      <th>75%</th>\n",
       "      <td>824.500000</td>\n",
       "    </tr>\n",
       "    <tr>\n",
       "      <th>max</th>\n",
       "      <td>969.000000</td>\n",
       "    </tr>\n",
       "  </tbody>\n",
       "</table>\n",
       "</div>"
      ],
      "text/plain": [
       "       Production\n",
       "count  168.000000\n",
       "mean   754.708333\n",
       "std    102.204524\n",
       "min    553.000000\n",
       "25%    677.750000\n",
       "50%    761.000000\n",
       "75%    824.500000\n",
       "max    969.000000"
      ]
     },
     "execution_count": 4,
     "metadata": {},
     "output_type": "execute_result"
    }
   ],
   "source": [
    "df.describe()"
   ]
  },
  {
   "cell_type": "code",
   "execution_count": 5,
   "id": "67164a6f-baf5-4242-aee4-02bb350b8388",
   "metadata": {},
   "outputs": [
    {
     "name": "stdout",
     "output_type": "stream",
     "text": [
      "<class 'pandas.core.frame.DataFrame'>\n",
      "DatetimeIndex: 168 entries, 1962-01-01 to 1975-12-01\n",
      "Data columns (total 1 columns):\n",
      " #   Column      Non-Null Count  Dtype\n",
      "---  ------      --------------  -----\n",
      " 0   Production  168 non-null    int64\n",
      "dtypes: int64(1)\n",
      "memory usage: 2.6 KB\n"
     ]
    }
   ],
   "source": [
    "df.info()"
   ]
  },
  {
   "cell_type": "code",
   "execution_count": 6,
   "id": "592bf445-50cd-48fd-8afd-4a568a677ed0",
   "metadata": {},
   "outputs": [
    {
     "data": {
      "text/plain": [
       "Production    False\n",
       "dtype: bool"
      ]
     },
     "execution_count": 6,
     "metadata": {},
     "output_type": "execute_result"
    }
   ],
   "source": [
    "df.isna().any()"
   ]
  },
  {
   "cell_type": "code",
   "execution_count": 7,
   "id": "f766e790-9675-430e-9edb-35741500d7d0",
   "metadata": {},
   "outputs": [
    {
     "data": {
      "image/png": "[encoded data removed]",
      "text/plain": [
       "<Figure size 800x600 with 1 Axes>"
      ]
     },
     "metadata": {},
     "output_type": "display_data"
    }
   ],
   "source": [
    "df.plot(figsize=(8,6))\n",
    "plt.show()"
   ]
  },
  {
   "cell_type": "code",
   "execution_count": 8,
   "id": "01c5490c-abf9-435e-87b5-e5eca929fbad",
   "metadata": {},
   "outputs": [
    {
     "data": {
      "text/plain": [
       "168"
      ]
     },
     "execution_count": 8,
     "metadata": {},
     "output_type": "execute_result"
    }
   ],
   "source": [
    "len(df)"
   ]
  },
  {
   "cell_type": "code",
   "execution_count": 12,
   "id": "384f62c8-9b65-4eb6-879d-b114cc6de33e",
   "metadata": {},
   "outputs": [],
   "source": [
    "train=df.iloc[:140]                            #selects the first 140 rows of the DataFrame\n",
    "                          #selects the rows from index 140 onwards until the end"
   ]
  },
  {
   "cell_type": "code",
   "execution_count": 13,
   "id": "5c3e8de4-1267-4881-988c-0522367e38e6",
   "metadata": {},
   "outputs": [
    {
     "data": {
      "text/html": [
       "<div>\n",
       "<style scoped>\n",
       "    .dataframe tbody tr th:only-of-type {\n",
       "        vertical-align: middle;\n",
       "    }\n",
       "\n",
       "    .dataframe tbody tr th {\n",
       "        vertical-align: top;\n",
       "    }\n",
       "\n",
       "    .dataframe thead th {\n",
       "        text-align: right;\n",
       "    }\n",
       "</style>\n",
       "<table border=\"1\" class=\"dataframe\">\n",
       "  <thead>\n",
       "    <tr style=\"text-align: right;\">\n",
       "      <th></th>\n",
       "      <th>Production</th>\n",
       "    </tr>\n",
       "    <tr>\n",
       "      <th>Date</th>\n",
       "      <th></th>\n",
       "    </tr>\n",
       "  </thead>\n",
       "  <tbody>\n",
       "    <tr>\n",
       "      <th>1962-01-01</th>\n",
       "      <td>589</td>\n",
       "    </tr>\n",
       "    <tr>\n",
       "      <th>1962-02-01</th>\n",
       "      <td>561</td>\n",
       "    </tr>\n",
       "    <tr>\n",
       "      <th>1962-03-01</th>\n",
       "      <td>640</td>\n",
       "    </tr>\n",
       "    <tr>\n",
       "      <th>1962-04-01</th>\n",
       "      <td>656</td>\n",
       "    </tr>\n",
       "    <tr>\n",
       "      <th>1962-05-01</th>\n",
       "      <td>727</td>\n",
       "    </tr>\n",
       "    <tr>\n",
       "      <th>...</th>\n",
       "      <td>...</td>\n",
       "    </tr>\n",
       "    <tr>\n",
       "      <th>1973-04-01</th>\n",
       "      <td>898</td>\n",
       "    </tr>\n",
       "    <tr>\n",
       "      <th>1973-05-01</th>\n",
       "      <td>957</td>\n",
       "    </tr>\n",
       "    <tr>\n",
       "      <th>1973-06-01</th>\n",
       "      <td>924</td>\n",
       "    </tr>\n",
       "    <tr>\n",
       "      <th>1973-07-01</th>\n",
       "      <td>881</td>\n",
       "    </tr>\n",
       "    <tr>\n",
       "      <th>1973-08-01</th>\n",
       "      <td>837</td>\n",
       "    </tr>\n",
       "  </tbody>\n",
       "</table>\n",
       "<p>140 rows × 1 columns</p>\n",
       "</div>"
      ],
      "text/plain": [
       "            Production\n",
       "Date                  \n",
       "1962-01-01         589\n",
       "1962-02-01         561\n",
       "1962-03-01         640\n",
       "1962-04-01         656\n",
       "1962-05-01         727\n",
       "...                ...\n",
       "1973-04-01         898\n",
       "1973-05-01         957\n",
       "1973-06-01         924\n",
       "1973-07-01         881\n",
       "1973-08-01         837\n",
       "\n",
       "[140 rows x 1 columns]"
      ]
     },
     "execution_count": 13,
     "metadata": {},
     "output_type": "execute_result"
    }
   ],
   "source": [
    "train"
   ]
  },
  {
   "cell_type": "code",
   "execution_count": 14,
   "id": "e5be6710-2220-467d-96f6-815609e9e3a0",
   "metadata": {},
   "outputs": [
    {
     "data": {
      "text/html": [
       "<div>\n",
       "<style scoped>\n",
       "    .dataframe tbody tr th:only-of-type {\n",
       "        vertical-align: middle;\n",
       "    }\n",
       "\n",
       "    .dataframe tbody tr th {\n",
       "        vertical-align: top;\n",
       "    }\n",
       "\n",
       "    .dataframe thead th {\n",
       "        text-align: right;\n",
       "    }\n",
       "</style>\n",
       "<table border=\"1\" class=\"dataframe\">\n",
       "  <thead>\n",
       "    <tr style=\"text-align: right;\">\n",
       "      <th></th>\n",
       "      <th>Production</th>\n",
       "    </tr>\n",
       "    <tr>\n",
       "      <th>Date</th>\n",
       "      <th></th>\n",
       "    </tr>\n",
       "  </thead>\n",
       "  <tbody>\n",
       "    <tr>\n",
       "      <th>1973-09-01</th>\n",
       "      <td>784</td>\n",
       "    </tr>\n",
       "    <tr>\n",
       "      <th>1973-10-01</th>\n",
       "      <td>791</td>\n",
       "    </tr>\n",
       "    <tr>\n",
       "      <th>1973-11-01</th>\n",
       "      <td>760</td>\n",
       "    </tr>\n",
       "    <tr>\n",
       "      <th>1973-12-01</th>\n",
       "      <td>802</td>\n",
       "    </tr>\n",
       "    <tr>\n",
       "      <th>1974-01-01</th>\n",
       "      <td>828</td>\n",
       "    </tr>\n",
       "    <tr>\n",
       "      <th>1974-02-01</th>\n",
       "      <td>778</td>\n",
       "    </tr>\n",
       "    <tr>\n",
       "      <th>1974-03-01</th>\n",
       "      <td>889</td>\n",
       "    </tr>\n",
       "    <tr>\n",
       "      <th>1974-04-01</th>\n",
       "      <td>902</td>\n",
       "    </tr>\n",
       "    <tr>\n",
       "      <th>1974-05-01</th>\n",
       "      <td>969</td>\n",
       "    </tr>\n",
       "    <tr>\n",
       "      <th>1974-06-01</th>\n",
       "      <td>947</td>\n",
       "    </tr>\n",
       "    <tr>\n",
       "      <th>1974-07-01</th>\n",
       "      <td>908</td>\n",
       "    </tr>\n",
       "    <tr>\n",
       "      <th>1974-08-01</th>\n",
       "      <td>867</td>\n",
       "    </tr>\n",
       "    <tr>\n",
       "      <th>1974-09-01</th>\n",
       "      <td>815</td>\n",
       "    </tr>\n",
       "    <tr>\n",
       "      <th>1974-10-01</th>\n",
       "      <td>812</td>\n",
       "    </tr>\n",
       "    <tr>\n",
       "      <th>1974-11-01</th>\n",
       "      <td>773</td>\n",
       "    </tr>\n",
       "    <tr>\n",
       "      <th>1974-12-01</th>\n",
       "      <td>813</td>\n",
       "    </tr>\n",
       "    <tr>\n",
       "      <th>1975-01-01</th>\n",
       "      <td>834</td>\n",
       "    </tr>\n",
       "    <tr>\n",
       "      <th>1975-02-01</th>\n",
       "      <td>782</td>\n",
       "    </tr>\n",
       "    <tr>\n",
       "      <th>1975-03-01</th>\n",
       "      <td>892</td>\n",
       "    </tr>\n",
       "    <tr>\n",
       "      <th>1975-04-01</th>\n",
       "      <td>903</td>\n",
       "    </tr>\n",
       "    <tr>\n",
       "      <th>1975-05-01</th>\n",
       "      <td>966</td>\n",
       "    </tr>\n",
       "    <tr>\n",
       "      <th>1975-06-01</th>\n",
       "      <td>937</td>\n",
       "    </tr>\n",
       "    <tr>\n",
       "      <th>1975-07-01</th>\n",
       "      <td>896</td>\n",
       "    </tr>\n",
       "    <tr>\n",
       "      <th>1975-08-01</th>\n",
       "      <td>858</td>\n",
       "    </tr>\n",
       "    <tr>\n",
       "      <th>1975-09-01</th>\n",
       "      <td>817</td>\n",
       "    </tr>\n",
       "    <tr>\n",
       "      <th>1975-10-01</th>\n",
       "      <td>827</td>\n",
       "    </tr>\n",
       "    <tr>\n",
       "      <th>1975-11-01</th>\n",
       "      <td>797</td>\n",
       "    </tr>\n",
       "    <tr>\n",
       "      <th>1975-12-01</th>\n",
       "      <td>843</td>\n",
       "    </tr>\n",
       "  </tbody>\n",
       "</table>\n",
       "</div>"
      ],
      "text/plain": [
       "            Production\n",
       "Date                  \n",
       "1973-09-01         784\n",
       "1973-10-01         791\n",
       "1973-11-01         760\n",
       "1973-12-01         802\n",
       "1974-01-01         828\n",
       "1974-02-01         778\n",
       "1974-03-01         889\n",
       "1974-04-01         902\n",
       "1974-05-01         969\n",
       "1974-06-01         947\n",
       "1974-07-01         908\n",
       "1974-08-01         867\n",
       "1974-09-01         815\n",
       "1974-10-01         812\n",
       "1974-11-01         773\n",
       "1974-12-01         813\n",
       "1975-01-01         834\n",
       "1975-02-01         782\n",
       "1975-03-01         892\n",
       "1975-04-01         903\n",
       "1975-05-01         966\n",
       "1975-06-01         937\n",
       "1975-07-01         896\n",
       "1975-08-01         858\n",
       "1975-09-01         817\n",
       "1975-10-01         827\n",
       "1975-11-01         797\n",
       "1975-12-01         843"
      ]
     },
     "execution_count": 14,
     "metadata": {},
     "output_type": "execute_result"
    }
   ],
   "source": [
    "test=df.iloc[140:]         #selects the rows from index 140 onwards until the end\n",
    "test"
   ]
  },
  {
   "cell_type": "code",
   "execution_count": 18,
   "id": "cb4d9f2c-f051-4102-b9bb-ea87283d2031",
   "metadata": {},
   "outputs": [],
   "source": [
    "from sklearn.preprocessing import MinMaxScaler\n",
    "scalar=MinMaxScaler()\n",
    "train1=scalar.fit_transform(train)\n",
    "test1=scalar.fit_transform(test)\n"
   ]
  },
  {
   "cell_type": "code",
   "execution_count": 19,
   "id": "c5f57c60-7459-4755-b13c-0072dc2ed867",
   "metadata": {},
   "outputs": [],
   "source": [
    "#The MinMaxScaler is commonly used for scaling numerical features to a specific range, often between 0 and 1. This scaler is helpful when you have features with different scales, and you want to bring them to a similar scale."
   ]
  },
  {
   "cell_type": "code",
   "execution_count": 20,
   "id": "4ea54a64-d766-48b1-a286-e8b22ae444e1",
   "metadata": {},
   "outputs": [],
   "source": [
    "from keras.preprocessing.sequence import TimeseriesGenerator     #to generate batches of timeseries data for training the model\n"
   ]
  },
  {
   "cell_type": "code",
   "execution_count": 24,
   "id": "dbed17d2-c0b2-488e-8465-0403a9d7126b",
   "metadata": {},
   "outputs": [
    {
     "name": "stdout",
     "output_type": "stream",
     "text": [
      "Given the array: \n",
      "[0.08823529 0.01960784 0.21323529]\n",
      "Predict this y:\n",
      "[[0.25245098]]\n"
     ]
    }
   ],
   "source": [
    "n_input=3                                                                                  # using the last 3 observations to predict the next one.\n",
    "n_features=1                                                                               #The number of features (variables) in the time series data.\n",
    "generator=TimeseriesGenerator(train1,train1,length=n_input,batch_size=1)                   #batch_size=1:each batch will contain a single sample.  \n",
    "x,y=generator[0]                                                                           #first batch ([0]) from the TimeseriesGenerator. x is the input sequence, and y is the corresponding target sequence.\n",
    "print(f'Given the array: \\n{x.flatten()}')\n",
    "print(f'Predict this y:\\n{y}')                                                             #the sequence you want your model to predict."
   ]
  },
  {
   "cell_type": "code",
   "execution_count": 25,
   "id": "952f763d-c14f-4eaf-b1af-2668afa68ec2",
   "metadata": {},
   "outputs": [
    {
     "data": {
      "text/plain": [
       "array([[0.08823529],\n",
       "       [0.01960784],\n",
       "       [0.21323529],\n",
       "       [0.25245098],\n",
       "       [0.42647059],\n",
       "       [0.35294118],\n",
       "       [0.21323529],\n",
       "       [0.1127451 ],\n",
       "       [0.03676471],\n",
       "       [0.05882353]])"
      ]
     },
     "execution_count": 25,
     "metadata": {},
     "output_type": "execute_result"
    }
   ],
   "source": [
    "train1[:10]"
   ]
  },
  {
   "cell_type": "code",
   "execution_count": 26,
   "id": "d7fade8e-ecb4-4013-8bd1-21274d08ad2a",
   "metadata": {},
   "outputs": [
    {
     "data": {
      "text/plain": [
       "array([[[0.08823529],\n",
       "        [0.01960784],\n",
       "        [0.21323529]]])"
      ]
     },
     "execution_count": 26,
     "metadata": {},
     "output_type": "execute_result"
    }
   ],
   "source": [
    "x"
   ]
  },
  {
   "cell_type": "code",
   "execution_count": 27,
   "id": "1fd12dcd-5ea4-44fe-ad77-70828f732f16",
   "metadata": {},
   "outputs": [
    {
     "data": {
      "text/plain": [
       "(array([[[0.08823529],\n",
       "         [0.01960784],\n",
       "         [0.21323529]]]),\n",
       " array([[0.25245098]]))"
      ]
     },
     "execution_count": 27,
     "metadata": {},
     "output_type": "execute_result"
    }
   ],
   "source": [
    "generator[0]"
   ]
  },
  {
   "cell_type": "code",
   "execution_count": 28,
   "id": "f777f39d-2cae-4881-9129-b05ce47aef0c",
   "metadata": {},
   "outputs": [
    {
     "data": {
      "text/plain": [
       "array([[0.25245098]])"
      ]
     },
     "execution_count": 28,
     "metadata": {},
     "output_type": "execute_result"
    }
   ],
   "source": [
    "y"
   ]
  },
  {
   "cell_type": "code",
   "execution_count": 29,
   "id": "93a866fc-3ad5-4882-9f69-719eeeff0064",
   "metadata": {},
   "outputs": [
    {
     "data": {
      "text/plain": [
       "(1, 3, 1)"
      ]
     },
     "execution_count": 29,
     "metadata": {},
     "output_type": "execute_result"
    }
   ],
   "source": [
    "x.shape"
   ]
  },
  {
   "cell_type": "code",
   "execution_count": null,
   "id": "411239ee-5873-4152-967c-b6ab27b762d4",
   "metadata": {},
   "outputs": [],
   "source": [
    "# doing same for 12 months"
   ]
  },
  {
   "cell_type": "code",
   "execution_count": 31,
   "id": "fcd92cf6-860f-41e5-8005-1af9d31bbaeb",
   "metadata": {},
   "outputs": [
    {
     "data": {
      "text/plain": [
       "(array([[[0.08823529],\n",
       "         [0.01960784],\n",
       "         [0.21323529],\n",
       "         [0.25245098],\n",
       "         [0.42647059],\n",
       "         [0.35294118],\n",
       "         [0.21323529],\n",
       "         [0.1127451 ],\n",
       "         [0.03676471],\n",
       "         [0.05882353],\n",
       "         [0.        ],\n",
       "         [0.07107843]]]),\n",
       " array([[0.11519608]]))"
      ]
     },
     "execution_count": 31,
     "metadata": {},
     "output_type": "execute_result"
    }
   ],
   "source": [
    "n_inputs=12\n",
    "generator1=TimeseriesGenerator(train1,train1,length=n_inputs,batch_size=1)\n",
    "generator1[0]\n",
    "                               "
   ]
  },
  {
   "cell_type": "code",
   "execution_count": 33,
   "id": "79f3ba7d-03c3-444c-9f51-d68d3111ee3e",
   "metadata": {},
   "outputs": [
    {
     "name": "stdout",
     "output_type": "stream",
     "text": [
      "Epoch 1/5\n",
      "128/128 [==============================] - 3s 9ms/step - loss: 0.0448\n",
      "Epoch 2/5\n",
      "128/128 [==============================] - 1s 8ms/step - loss: 0.0212\n",
      "Epoch 3/5\n",
      "128/128 [==============================] - 1s 9ms/step - loss: 0.0209\n",
      "Epoch 4/5\n",
      "128/128 [==============================] - 1s 8ms/step - loss: 0.0231\n",
      "Epoch 5/5\n",
      "128/128 [==============================] - 1s 8ms/step - loss: 0.0121\n"
     ]
    },
    {
     "data": {
      "image/png": "[encoded data removed]",
      "text/plain": [
       "<Figure size 640x480 with 1 Axes>"
      ]
     },
     "metadata": {},
     "output_type": "display_data"
    }
   ],
   "source": [
    "from keras.models import Sequential\n",
    "from keras.layers import Dense,LSTM\n",
    "model=Sequential()\n",
    "model.add(LSTM(100,activation='relu',input_shape=(n_inputs,n_features)))      #adding as LSTM layer with 100 units\n",
    "model.add(Dense(1))                                                           # Adding a Dense layer with 1 unit\n",
    "model.compile(optimizer='adam',loss='mse')                                    # Compiling the model with 'adam' optimizer and mean squared error (MSE) loss\n",
    "model.fit(generator1,epochs=5,batch_size=1)                                   \n",
    "loss_per_epoch=model.history.history['loss']\n",
    "plt.plot(range(len(loss_per_epoch)),loss_per_epoch)     # Plotting the loss per epoch\n",
    "plt.xlabel('epochs')\n",
    "plt.ylabel('loss')\n",
    "plt.title('Training Loss Over Epochs')\n",
    "plt.show()\n",
    "\n",
    "          "
   ]
  },
  {
   "cell_type": "code",
   "execution_count": 34,
   "id": "3690d344-3f82-4494-ac2b-b71f04e4ce28",
   "metadata": {},
   "outputs": [
    {
     "data": {
      "text/plain": [
       "array([[0.62745098],\n",
       "       [0.62990196],\n",
       "       [0.52205882],\n",
       "       [0.61764706],\n",
       "       [0.65686275],\n",
       "       [0.53921569],\n",
       "       [0.80882353],\n",
       "       [0.84558824],\n",
       "       [0.99019608],\n",
       "       [0.90931373],\n",
       "       [0.80392157],\n",
       "       [0.69607843]])"
      ]
     },
     "execution_count": 34,
     "metadata": {},
     "output_type": "execute_result"
    }
   ],
   "source": [
    "#taking last 12 values in the train set to make prediction of first value in test set\n",
    "last_train_batch=train1[-12:]\n",
    "last_train_batch"
   ]
  },
  {
   "cell_type": "code",
   "execution_count": 35,
   "id": "45e9432e-baa5-4cd9-bdfc-c5feda28dc0b",
   "metadata": {},
   "outputs": [
    {
     "data": {
      "text/plain": [
       "(12, 1)"
      ]
     },
     "execution_count": 35,
     "metadata": {},
     "output_type": "execute_result"
    }
   ],
   "source": [
    "last_train_batch.shape"
   ]
  },
  {
   "cell_type": "code",
   "execution_count": 36,
   "id": "48b42267-2a7c-44bf-80db-93bdfa97c3cc",
   "metadata": {},
   "outputs": [],
   "source": [
    "last_train_batch=last_train_batch.reshape(1,n_inputs,n_features)                #preparing it for input into an LSTM layer with the specified number of time steps and features."
   ]
  },
  {
   "cell_type": "code",
   "execution_count": 37,
   "id": "669dc166-0f5d-448c-9778-2af29d4d229e",
   "metadata": {},
   "outputs": [
    {
     "data": {
      "text/plain": [
       "(1, 12, 1)"
      ]
     },
     "execution_count": 37,
     "metadata": {},
     "output_type": "execute_result"
    }
   ],
   "source": [
    "last_train_batch.shape"
   ]
  },
  {
   "cell_type": "code",
   "execution_count": 38,
   "id": "8f2d8a74-f279-4baa-8fb9-8b2e00e3f9a5",
   "metadata": {},
   "outputs": [
    {
     "data": {
      "text/plain": [
       "array([[[0.62745098],\n",
       "        [0.62990196],\n",
       "        [0.52205882],\n",
       "        [0.61764706],\n",
       "        [0.65686275],\n",
       "        [0.53921569],\n",
       "        [0.80882353],\n",
       "        [0.84558824],\n",
       "        [0.99019608],\n",
       "        [0.90931373],\n",
       "        [0.80392157],\n",
       "        [0.69607843]]])"
      ]
     },
     "execution_count": 38,
     "metadata": {},
     "output_type": "execute_result"
    }
   ],
   "source": [
    "last_train_batch"
   ]
  },
  {
   "cell_type": "code",
   "execution_count": 40,
   "id": "42754c75-77dc-4b2c-abcd-5e7afaf38c85",
   "metadata": {},
   "outputs": [
    {
     "name": "stdout",
     "output_type": "stream",
     "text": [
      "1/1 [==============================] - 0s 31ms/step\n"
     ]
    },
    {
     "data": {
      "text/plain": [
       "array([[0.69631535]], dtype=float32)"
      ]
     },
     "execution_count": 40,
     "metadata": {},
     "output_type": "execute_result"
    }
   ],
   "source": [
    "pred=model.predict(last_train_batch)\n",
    "pred"
   ]
  },
  {
   "cell_type": "code",
   "execution_count": 41,
   "id": "57af5420-8609-4d9b-9da5-35e8338ebc59",
   "metadata": {},
   "outputs": [
    {
     "data": {
      "text/plain": [
       "array([[905.52985]], dtype=float32)"
      ]
     },
     "execution_count": 41,
     "metadata": {},
     "output_type": "execute_result"
    }
   ],
   "source": [
    "true_prediction=scalar.inverse_transform(pred)     # using an inverse transformation on  model's predictions to obtain the true predictions in the original scale.\n",
    "true_prediction"
   ]
  },
  {
   "cell_type": "code",
   "execution_count": 42,
   "id": "cc0f047b-9e9d-40fb-8585-c438fa9a93e0",
   "metadata": {},
   "outputs": [
    {
     "data": {
      "text/plain": [
       "array([[0.11483254],\n",
       "       [0.14832536],\n",
       "       [0.        ],\n",
       "       [0.20095694],\n",
       "       [0.32535885],\n",
       "       [0.0861244 ],\n",
       "       [0.61722488],\n",
       "       [0.67942584],\n",
       "       [1.        ],\n",
       "       [0.89473684],\n",
       "       [0.70813397],\n",
       "       [0.51196172],\n",
       "       [0.26315789],\n",
       "       [0.24880383],\n",
       "       [0.06220096],\n",
       "       [0.25358852],\n",
       "       [0.35406699],\n",
       "       [0.10526316],\n",
       "       [0.63157895],\n",
       "       [0.68421053],\n",
       "       [0.98564593],\n",
       "       [0.84688995],\n",
       "       [0.6507177 ],\n",
       "       [0.46889952],\n",
       "       [0.27272727],\n",
       "       [0.32057416],\n",
       "       [0.17703349],\n",
       "       [0.39712919]])"
      ]
     },
     "execution_count": 42,
     "metadata": {},
     "output_type": "execute_result"
    }
   ],
   "source": [
    "test1"
   ]
  },
  {
   "cell_type": "code",
   "execution_count": 43,
   "id": "e525727e-8215-43cd-9cdd-9d7c873cc5cf",
   "metadata": {},
   "outputs": [],
   "source": [
    "test_prediction=[]\n",
    "first_eval_batch=train1[-n_inputs:]  #last n i/p\n",
    "current_batch=first_eval_batch.reshape(1,n_inputs,n_features)\n"
   ]
  },
  {
   "cell_type": "code",
   "execution_count": 44,
   "id": "8f757cfc-0333-4147-bfda-31cff562da3a",
   "metadata": {},
   "outputs": [
    {
     "name": "stdout",
     "output_type": "stream",
     "text": [
      "1/1 [==============================] - 0s 28ms/step\n",
      "1/1 [==============================] - 0s 68ms/step\n",
      "1/1 [==============================] - 0s 63ms/step\n",
      "1/1 [==============================] - 0s 44ms/step\n",
      "1/1 [==============================] - 0s 47ms/step\n",
      "1/1 [==============================] - 0s 47ms/step\n",
      "1/1 [==============================] - 0s 45ms/step\n",
      "1/1 [==============================] - 0s 62ms/step\n",
      "1/1 [==============================] - 0s 48ms/step\n",
      "1/1 [==============================] - 0s 60ms/step\n",
      "1/1 [==============================] - 0s 63ms/step\n",
      "1/1 [==============================] - 0s 59ms/step\n",
      "1/1 [==============================] - 0s 67ms/step\n",
      "1/1 [==============================] - 0s 63ms/step\n",
      "1/1 [==============================] - 0s 63ms/step\n",
      "1/1 [==============================] - 0s 63ms/step\n",
      "1/1 [==============================] - 0s 74ms/step\n",
      "1/1 [==============================] - 0s 47ms/step\n",
      "1/1 [==============================] - 0s 68ms/step\n",
      "1/1 [==============================] - 0s 47ms/step\n",
      "1/1 [==============================] - 0s 47ms/step\n",
      "1/1 [==============================] - 0s 47ms/step\n",
      "1/1 [==============================] - 0s 51ms/step\n",
      "1/1 [==============================] - 0s 62ms/step\n",
      "1/1 [==============================] - 0s 62ms/step\n",
      "1/1 [==============================] - 0s 61ms/step\n",
      "1/1 [==============================] - 0s 63ms/step\n",
      "1/1 [==============================] - 0s 77ms/step\n"
     ]
    },
    {
     "data": {
      "text/plain": [
       "[array([0.69631535], dtype=float32),\n",
       " array([0.6742292], dtype=float32),\n",
       " array([0.6754931], dtype=float32),\n",
       " array([0.69588584], dtype=float32),\n",
       " array([0.7328111], dtype=float32),\n",
       " array([0.7953561], dtype=float32),\n",
       " array([0.8762136], dtype=float32),\n",
       " array([0.9287798], dtype=float32),\n",
       " array([0.94236076], dtype=float32),\n",
       " array([0.89217186], dtype=float32),\n",
       " array([0.83043784], dtype=float32),\n",
       " array([0.79057294], dtype=float32),\n",
       " array([0.77045697], dtype=float32),\n",
       " array([0.7614564], dtype=float32),\n",
       " array([0.77197593], dtype=float32),\n",
       " array([0.800791], dtype=float32),\n",
       " array([0.8444524], dtype=float32),\n",
       " array([0.8952759], dtype=float32),\n",
       " array([0.94232273], dtype=float32),\n",
       " array([0.96500605], dtype=float32),\n",
       " array([0.9569279], dtype=float32),\n",
       " array([0.92583656], dtype=float32),\n",
       " array([0.8937358], dtype=float32),\n",
       " array([0.8699817], dtype=float32),\n",
       " array([0.8573426], dtype=float32),\n",
       " array([0.8591624], dtype=float32),\n",
       " array([0.876738], dtype=float32),\n",
       " array([0.9068001], dtype=float32)]"
      ]
     },
     "execution_count": 44,
     "metadata": {},
     "output_type": "execute_result"
    }
   ],
   "source": [
    "for i in range(len(test)):\n",
    "    current_pred=model.predict(current_batch)[0]    #[0] is used to extract the predicted value,#get the prediction value for the first batch\n",
    "    test_prediction.append(current_pred)            #append the prediction into the array\n",
    "    current_batch=np.append(current_batch[:,1:,:],[[current_pred]],axis=1)     #use the prediction to update the batch and remove the first value\n",
    "test_prediction    \n",
    "    \n"
   ]
  },
  {
   "cell_type": "code",
   "execution_count": 46,
   "id": "fa529ff7-e281-4aff-84fa-7ab31108640a",
   "metadata": {},
   "outputs": [
    {
     "data": {
      "text/html": [
       "<div>\n",
       "<style scoped>\n",
       "    .dataframe tbody tr th:only-of-type {\n",
       "        vertical-align: middle;\n",
       "    }\n",
       "\n",
       "    .dataframe tbody tr th {\n",
       "        vertical-align: top;\n",
       "    }\n",
       "\n",
       "    .dataframe thead th {\n",
       "        text-align: right;\n",
       "    }\n",
       "</style>\n",
       "<table border=\"1\" class=\"dataframe\">\n",
       "  <thead>\n",
       "    <tr style=\"text-align: right;\">\n",
       "      <th></th>\n",
       "      <th>Production</th>\n",
       "    </tr>\n",
       "    <tr>\n",
       "      <th>Date</th>\n",
       "      <th></th>\n",
       "    </tr>\n",
       "  </thead>\n",
       "  <tbody>\n",
       "    <tr>\n",
       "      <th>1973-09-01</th>\n",
       "      <td>784</td>\n",
       "    </tr>\n",
       "    <tr>\n",
       "      <th>1973-10-01</th>\n",
       "      <td>791</td>\n",
       "    </tr>\n",
       "    <tr>\n",
       "      <th>1973-11-01</th>\n",
       "      <td>760</td>\n",
       "    </tr>\n",
       "    <tr>\n",
       "      <th>1973-12-01</th>\n",
       "      <td>802</td>\n",
       "    </tr>\n",
       "    <tr>\n",
       "      <th>1974-01-01</th>\n",
       "      <td>828</td>\n",
       "    </tr>\n",
       "    <tr>\n",
       "      <th>1974-02-01</th>\n",
       "      <td>778</td>\n",
       "    </tr>\n",
       "    <tr>\n",
       "      <th>1974-03-01</th>\n",
       "      <td>889</td>\n",
       "    </tr>\n",
       "    <tr>\n",
       "      <th>1974-04-01</th>\n",
       "      <td>902</td>\n",
       "    </tr>\n",
       "    <tr>\n",
       "      <th>1974-05-01</th>\n",
       "      <td>969</td>\n",
       "    </tr>\n",
       "    <tr>\n",
       "      <th>1974-06-01</th>\n",
       "      <td>947</td>\n",
       "    </tr>\n",
       "    <tr>\n",
       "      <th>1974-07-01</th>\n",
       "      <td>908</td>\n",
       "    </tr>\n",
       "    <tr>\n",
       "      <th>1974-08-01</th>\n",
       "      <td>867</td>\n",
       "    </tr>\n",
       "  </tbody>\n",
       "</table>\n",
       "</div>"
      ],
      "text/plain": [
       "            Production\n",
       "Date                  \n",
       "1973-09-01         784\n",
       "1973-10-01         791\n",
       "1973-11-01         760\n",
       "1973-12-01         802\n",
       "1974-01-01         828\n",
       "1974-02-01         778\n",
       "1974-03-01         889\n",
       "1974-04-01         902\n",
       "1974-05-01         969\n",
       "1974-06-01         947\n",
       "1974-07-01         908\n",
       "1974-08-01         867"
      ]
     },
     "execution_count": 46,
     "metadata": {},
     "output_type": "execute_result"
    }
   ],
   "source": [
    "test.head(12)"
   ]
  },
  {
   "cell_type": "code",
   "execution_count": 47,
   "id": "b77871e5-3fca-4ce2-ba76-a5dba888558d",
   "metadata": {},
   "outputs": [
    {
     "data": {
      "text/plain": [
       "array([[905.52990776],\n",
       "       [900.91390377],\n",
       "       [901.17806232],\n",
       "       [905.44013995],\n",
       "       [913.15751851],\n",
       "       [926.22942382],\n",
       "       [943.12864453],\n",
       "       [954.1149742 ],\n",
       "       [956.95339859],\n",
       "       [946.46391869],\n",
       "       [933.56150836],\n",
       "       [925.22974473],\n",
       "       [921.02550668],\n",
       "       [919.1443814 ],\n",
       "       [921.34297031],\n",
       "       [927.36532426],\n",
       "       [936.49054766],\n",
       "       [947.11266118],\n",
       "       [956.94545078],\n",
       "       [961.68626517],\n",
       "       [959.99793017],\n",
       "       [953.49984169],\n",
       "       [946.79078764],\n",
       "       [941.82617658],\n",
       "       [939.18460357],\n",
       "       [939.56493956],\n",
       "       [943.23824447],\n",
       "       [949.52121907]])"
      ]
     },
     "execution_count": 47,
     "metadata": {},
     "output_type": "execute_result"
    }
   ],
   "source": [
    "true_prediction=scalar.inverse_transform(test_prediction)\n",
    "true_prediction"
   ]
  },
  {
   "cell_type": "code",
   "execution_count": 49,
   "id": "8f80581a-0a25-457a-b4bf-7638c0f8eae8",
   "metadata": {},
   "outputs": [
    {
     "name": "stderr",
     "output_type": "stream",
     "text": [
      "C:\\Users\\Athira A R\\AppData\\Local\\Temp\\ipykernel_1716\\4260731095.py:1: SettingWithCopyWarning: \n",
      "A value is trying to be set on a copy of a slice from a DataFrame.\n",
      "Try using .loc[row_indexer,col_indexer] = value instead\n",
      "\n",
      "See the caveats in the documentation: https://pandas.pydata.org/pandas-docs/stable/user_guide/indexing.html#returning-a-view-versus-a-copy\n",
      "  test['predictions']=true_prediction\n"
     ]
    },
    {
     "data": {
      "text/plain": [
       "Date\n",
       "1973-09-01    905.529908\n",
       "1973-10-01    900.913904\n",
       "1973-11-01    901.178062\n",
       "1973-12-01    905.440140\n",
       "1974-01-01    913.157519\n",
       "1974-02-01    926.229424\n",
       "1974-03-01    943.128645\n",
       "1974-04-01    954.114974\n",
       "1974-05-01    956.953399\n",
       "1974-06-01    946.463919\n",
       "1974-07-01    933.561508\n",
       "1974-08-01    925.229745\n",
       "1974-09-01    921.025507\n",
       "1974-10-01    919.144381\n",
       "1974-11-01    921.342970\n",
       "1974-12-01    927.365324\n",
       "1975-01-01    936.490548\n",
       "1975-02-01    947.112661\n",
       "1975-03-01    956.945451\n",
       "1975-04-01    961.686265\n",
       "1975-05-01    959.997930\n",
       "1975-06-01    953.499842\n",
       "1975-07-01    946.790788\n",
       "1975-08-01    941.826177\n",
       "1975-09-01    939.184604\n",
       "1975-10-01    939.564940\n",
       "1975-11-01    943.238244\n",
       "1975-12-01    949.521219\n",
       "Name: predictions, dtype: float64"
      ]
     },
     "execution_count": 49,
     "metadata": {},
     "output_type": "execute_result"
    }
   ],
   "source": [
    "test['predictions']=true_prediction\n",
    "test['predictions']"
   ]
  },
  {
   "cell_type": "code",
   "execution_count": 50,
   "id": "dd12faeb-d493-40c9-9bfa-4bb89724ede2",
   "metadata": {},
   "outputs": [
    {
     "data": {
      "text/html": [
       "<div>\n",
       "<style scoped>\n",
       "    .dataframe tbody tr th:only-of-type {\n",
       "        vertical-align: middle;\n",
       "    }\n",
       "\n",
       "    .dataframe tbody tr th {\n",
       "        vertical-align: top;\n",
       "    }\n",
       "\n",
       "    .dataframe thead th {\n",
       "        text-align: right;\n",
       "    }\n",
       "</style>\n",
       "<table border=\"1\" class=\"dataframe\">\n",
       "  <thead>\n",
       "    <tr style=\"text-align: right;\">\n",
       "      <th></th>\n",
       "      <th>Production</th>\n",
       "      <th>predictions</th>\n",
       "    </tr>\n",
       "    <tr>\n",
       "      <th>Date</th>\n",
       "      <th></th>\n",
       "      <th></th>\n",
       "    </tr>\n",
       "  </thead>\n",
       "  <tbody>\n",
       "    <tr>\n",
       "      <th>1973-09-01</th>\n",
       "      <td>784</td>\n",
       "      <td>905.529908</td>\n",
       "    </tr>\n",
       "    <tr>\n",
       "      <th>1973-10-01</th>\n",
       "      <td>791</td>\n",
       "      <td>900.913904</td>\n",
       "    </tr>\n",
       "    <tr>\n",
       "      <th>1973-11-01</th>\n",
       "      <td>760</td>\n",
       "      <td>901.178062</td>\n",
       "    </tr>\n",
       "    <tr>\n",
       "      <th>1973-12-01</th>\n",
       "      <td>802</td>\n",
       "      <td>905.440140</td>\n",
       "    </tr>\n",
       "    <tr>\n",
       "      <th>1974-01-01</th>\n",
       "      <td>828</td>\n",
       "      <td>913.157519</td>\n",
       "    </tr>\n",
       "  </tbody>\n",
       "</table>\n",
       "</div>"
      ],
      "text/plain": [
       "            Production  predictions\n",
       "Date                               \n",
       "1973-09-01         784   905.529908\n",
       "1973-10-01         791   900.913904\n",
       "1973-11-01         760   901.178062\n",
       "1973-12-01         802   905.440140\n",
       "1974-01-01         828   913.157519"
      ]
     },
     "execution_count": 50,
     "metadata": {},
     "output_type": "execute_result"
    }
   ],
   "source": [
    "test.head()"
   ]
  },
  {
   "cell_type": "code",
   "execution_count": 51,
   "id": "fbeeedd6-7428-45a2-bb2b-2527d05c39ec",
   "metadata": {},
   "outputs": [
    {
     "data": {
      "image/png": "[encoded data removed]",
      "text/plain": [
       "<Figure size 800x400 with 1 Axes>"
      ]
     },
     "metadata": {},
     "output_type": "display_data"
    }
   ],
   "source": [
    "test.plot(figsize=(8,4))\n",
    "plt.show()"
   ]
  },
  {
   "cell_type": "code",
   "execution_count": null,
   "id": "fea62822-28cf-4b34-9692-441b2dd5c96a",
   "metadata": {},
   "outputs": [],
   "source": [
    "from sklearn.metrics import mean_squared_error\n",
    "from math import sqrt\n",
    "rmse=sqrt(mean_squared_error("
   ]
  }
 ],
 "metadata": {
  "kernelspec": {
   "display_name": "Python 3 (ipykernel)",
   "language": "python",
   "name": "python3"
  },
  "language_info": {
   "codemirror_mode": {
    "name": "ipython",
    "version": 3
   },
   "file_extension": ".py",
   "mimetype": "text/x-python",
   "name": "python",
   "nbconvert_exporter": "python",
   "pygments_lexer": "ipython3",
   "version": "3.9.18"
  }
 },
 "nbformat": 4,
 "nbformat_minor": 5
}
