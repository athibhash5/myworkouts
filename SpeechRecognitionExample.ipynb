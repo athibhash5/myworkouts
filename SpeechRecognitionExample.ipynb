{
 "cells": [
  {
   "cell_type": "code",
   "execution_count": 1,
   "id": "c49c989c-f10a-45f8-ac12-a872cbc732d0",
   "metadata": {},
   "outputs": [
    {
     "name": "stdout",
     "output_type": "stream",
     "text": [
      "Collecting speechrecognition\n",
      "  Downloading SpeechRecognition-3.10.1-py2.py3-none-any.whl.metadata (28 kB)\n",
      "Requirement already satisfied: requests>=2.26.0 in c:\\users\\athira a r\\anaconda3\\envs\\deepnn\\lib\\site-packages (from speechrecognition) (2.31.0)\n",
      "Requirement already satisfied: typing-extensions in c:\\users\\athira a r\\anaconda3\\envs\\deepnn\\lib\\site-packages (from speechrecognition) (4.7.1)\n",
      "Requirement already satisfied: charset-normalizer<4,>=2 in c:\\users\\athira a r\\anaconda3\\envs\\deepnn\\lib\\site-packages (from requests>=2.26.0->speechrecognition) (2.0.4)\n",
      "Requirement already satisfied: idna<4,>=2.5 in c:\\users\\athira a r\\anaconda3\\envs\\deepnn\\lib\\site-packages (from requests>=2.26.0->speechrecognition) (3.4)\n",
      "Requirement already satisfied: urllib3<3,>=1.21.1 in c:\\users\\athira a r\\anaconda3\\envs\\deepnn\\lib\\site-packages (from requests>=2.26.0->speechrecognition) (1.26.18)\n",
      "Requirement already satisfied: certifi>=2017.4.17 in c:\\users\\athira a r\\anaconda3\\envs\\deepnn\\lib\\site-packages (from requests>=2.26.0->speechrecognition) (2023.11.17)\n",
      "Downloading SpeechRecognition-3.10.1-py2.py3-none-any.whl (32.8 MB)\n",
      "   ---------------------------------------- 0.0/32.8 MB ? eta -:--:--\n",
      "   ---------------------------------------- 0.3/32.8 MB 9.2 MB/s eta 0:00:04\n",
      "   - -------------------------------------- 1.1/32.8 MB 14.4 MB/s eta 0:00:03\n",
      "   -- ------------------------------------- 2.1/32.8 MB 17.0 MB/s eta 0:00:02\n",
      "   ---- ----------------------------------- 3.3/32.8 MB 19.2 MB/s eta 0:00:02\n",
      "   ----- ---------------------------------- 4.7/32.8 MB 20.0 MB/s eta 0:00:02\n",
      "   ------- -------------------------------- 6.0/32.8 MB 22.6 MB/s eta 0:00:02\n",
      "   ------- -------------------------------- 6.4/32.8 MB 20.4 MB/s eta 0:00:02\n",
      "   ------- -------------------------------- 6.4/32.8 MB 20.4 MB/s eta 0:00:02\n",
      "   -------- ------------------------------- 6.9/32.8 MB 16.9 MB/s eta 0:00:02\n",
      "   ---------- ----------------------------- 9.0/32.8 MB 19.9 MB/s eta 0:00:02\n",
      "   ------------ --------------------------- 9.9/32.8 MB 19.8 MB/s eta 0:00:02\n",
      "   ------------- -------------------------- 10.7/32.8 MB 20.5 MB/s eta 0:00:02\n",
      "   ------------- -------------------------- 10.8/32.8 MB 19.9 MB/s eta 0:00:02\n",
      "   --------------- ------------------------ 12.6/32.8 MB 21.1 MB/s eta 0:00:01\n",
      "   ---------------- ----------------------- 13.5/32.8 MB 19.9 MB/s eta 0:00:01\n",
      "   ----------------- ---------------------- 14.4/32.8 MB 20.5 MB/s eta 0:00:01\n",
      "   ------------------ --------------------- 15.3/32.8 MB 19.3 MB/s eta 0:00:01\n",
      "   ------------------- -------------------- 16.1/32.8 MB 18.7 MB/s eta 0:00:01\n",
      "   -------------------- ------------------- 17.0/32.8 MB 22.6 MB/s eta 0:00:01\n",
      "   --------------------- ------------------ 17.7/32.8 MB 21.1 MB/s eta 0:00:01\n",
      "   --------------------- ------------------ 17.7/32.8 MB 20.5 MB/s eta 0:00:01\n",
      "   ---------------------- ----------------- 18.1/32.8 MB 17.3 MB/s eta 0:00:01\n",
      "   ------------------------ --------------- 19.9/32.8 MB 18.2 MB/s eta 0:00:01\n",
      "   ------------------------- -------------- 20.9/32.8 MB 18.2 MB/s eta 0:00:01\n",
      "   -------------------------- ------------- 21.8/32.8 MB 18.2 MB/s eta 0:00:01\n",
      "   --------------------------- ------------ 22.7/32.8 MB 17.3 MB/s eta 0:00:01\n",
      "   --------------------------- ------------ 22.9/32.8 MB 17.2 MB/s eta 0:00:01\n",
      "   ----------------------------- ---------- 24.0/32.8 MB 16.8 MB/s eta 0:00:01\n",
      "   ------------------------------ --------- 24.9/32.8 MB 17.3 MB/s eta 0:00:01\n",
      "   ------------------------------- -------- 25.7/32.8 MB 17.3 MB/s eta 0:00:01\n",
      "   -------------------------------- ------- 26.3/32.8 MB 16.8 MB/s eta 0:00:01\n",
      "   --------------------------------- ------ 27.1/32.8 MB 16.8 MB/s eta 0:00:01\n",
      "   ---------------------------------- ----- 27.9/32.8 MB 17.3 MB/s eta 0:00:01\n",
      "   ---------------------------------- ----- 28.6/32.8 MB 19.9 MB/s eta 0:00:01\n",
      "   ----------------------------------- ---- 29.4/32.8 MB 18.2 MB/s eta 0:00:01\n",
      "   ------------------------------------- -- 30.4/32.8 MB 17.2 MB/s eta 0:00:01\n",
      "   -------------------------------------- - 31.4/32.8 MB 17.3 MB/s eta 0:00:01\n",
      "   ---------------------------------------  32.2/32.8 MB 16.8 MB/s eta 0:00:01\n",
      "   ---------------------------------------  32.8/32.8 MB 16.4 MB/s eta 0:00:01\n",
      "   ---------------------------------------  32.8/32.8 MB 16.4 MB/s eta 0:00:01\n",
      "   ---------------------------------------  32.8/32.8 MB 16.4 MB/s eta 0:00:01\n",
      "   ---------------------------------------- 32.8/32.8 MB 13.9 MB/s eta 0:00:00\n",
      "Installing collected packages: speechrecognition\n",
      "Successfully installed speechrecognition-3.10.1\n",
      "Note: you may need to restart the kernel to use updated packages.\n"
     ]
    }
   ],
   "source": [
    "pip install speechrecognition"
   ]
  },
  {
   "cell_type": "code",
   "execution_count": 2,
   "id": "16bc238f-145e-496e-9773-ddc051cc1f14",
   "metadata": {},
   "outputs": [
    {
     "name": "stdout",
     "output_type": "stream",
     "text": [
      "Collecting pyaudio\n",
      "  Downloading PyAudio-0.2.14-cp39-cp39-win_amd64.whl.metadata (2.7 kB)\n",
      "Downloading PyAudio-0.2.14-cp39-cp39-win_amd64.whl (164 kB)\n",
      "   ---------------------------------------- 0.0/164.1 kB ? eta -:--:--\n",
      "   ---------------------------------------  163.8/164.1 kB 3.3 MB/s eta 0:00:01\n",
      "   ---------------------------------------- 164.1/164.1 kB 2.5 MB/s eta 0:00:00\n",
      "Installing collected packages: pyaudio\n",
      "Successfully installed pyaudio-0.2.14\n",
      "Note: you may need to restart the kernel to use updated packages.\n"
     ]
    }
   ],
   "source": [
    "pip install pyaudio"
   ]
  },
  {
   "cell_type": "code",
   "execution_count": 3,
   "id": "f323eb0d-b038-4620-b377-7dba9c1d184a",
   "metadata": {},
   "outputs": [],
   "source": [
    "import speech_recognition as sr"
   ]
  },
  {
   "cell_type": "code",
   "execution_count": null,
   "id": "b97d050e-951f-49d4-bbc9-a2a279edd0f1",
   "metadata": {},
   "outputs": [
    {
     "name": "stdout",
     "output_type": "stream",
     "text": [
      "speak\n",
      "Didnt hear anything...Try again!\n",
      "speak\n",
      "Didnt hear anything...Try again!\n",
      "speak\n",
      "Didnt hear anything...Try again!\n",
      "speak\n",
      "Didnt hear anything...Try again!\n",
      "speak\n",
      "Didnt hear anything...Try again!\n",
      "speak\n",
      "Didnt hear anything...Try again!\n",
      "speak\n",
      "Didnt hear anything...Try again!\n",
      "speak\n",
      "Didnt hear anything...Try again!\n",
      "speak\n",
      "Didnt hear anything...Try again!\n",
      "speak\n"
     ]
    }
   ],
   "source": [
    "def speech_reco():\n",
    "    r=sr.Recognizer()\n",
    "    mic=sr.Microphone()\n",
    "    while True:\n",
    "        with mic as source:\n",
    "            r.adjust_for_ambient_noise(source,duration=1)\n",
    "            print('speak')\n",
    "            audio=r.listen(source)\n",
    "        try:\n",
    "            text=r.recognize_google(audio)\n",
    "            print(f'you said{text}')\n",
    "        except sr.UnknownValueError:\n",
    "            print(\"Didnt hear anything...Try again!\")\n",
    "speech_reco()\n",
    "import speech_recognition as sr\n",
    "r=sr.Recognizer()\n",
    "with sr.Microphone() as source:\n",
    "    r.adjust_for_ambient_noise(source,duration=1)\n",
    "    print('speak')\n",
    "    audio=r.listen(source)\n",
    "    try:\n",
    "        text=r.recognize_google(audio)\n",
    "        print(f'you said{text}')\n",
    "    except sr.UnknownValueError:\n",
    "        print(\"Didnt hear anything...Try again!\")\n",
    "\n"
   ]
  },
  {
   "cell_type": "code",
   "execution_count": null,
   "id": "098216e8-ab60-486e-b68d-5b5964d3caa4",
   "metadata": {},
   "outputs": [],
   "source": []
  },
  {
   "cell_type": "code",
   "execution_count": null,
   "id": "91e623b6-c1c5-4898-b167-147b52ce41d0",
   "metadata": {},
   "outputs": [],
   "source": []
  },
  {
   "cell_type": "code",
   "execution_count": null,
   "id": "eb95b517-b81c-41de-84a2-e0ef228bf685",
   "metadata": {},
   "outputs": [],
   "source": []
  },
  {
   "cell_type": "code",
   "execution_count": null,
   "id": "05306fca-b17c-4a6c-8f60-d614e87e0bbf",
   "metadata": {},
   "outputs": [],
   "source": []
  },
  {
   "cell_type": "code",
   "execution_count": null,
   "id": "37a6ba4f-6d1d-4b13-803f-93b325e0400d",
   "metadata": {},
   "outputs": [],
   "source": []
  },
  {
   "cell_type": "code",
   "execution_count": null,
   "id": "3f8f858b-725c-46d6-9cc7-06cfbc15cdbc",
   "metadata": {},
   "outputs": [],
   "source": []
  },
  {
   "cell_type": "code",
   "execution_count": null,
   "id": "6c847b22-e21e-4bdc-a7d6-fcf7b1b1d4cc",
   "metadata": {},
   "outputs": [],
   "source": []
  }
 ],
 "metadata": {
  "kernelspec": {
   "display_name": "Python 3 (ipykernel)",
   "language": "python",
   "name": "python3"
  },
  "language_info": {
   "codemirror_mode": {
    "name": "ipython",
    "version": 3
   },
   "file_extension": ".py",
   "mimetype": "text/x-python",
   "name": "python",
   "nbconvert_exporter": "python",
   "pygments_lexer": "ipython3",
   "version": "3.9.18"
  }
 },
 "nbformat": 4,
 "nbformat_minor": 5
}
