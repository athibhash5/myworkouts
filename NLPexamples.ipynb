{
  "nbformat": 4,
  "nbformat_minor": 0,
  "metadata": {
    "colab": {
      "provenance": [],
      "authorship_tag": "ABX9TyOsqBRQ62UxDK+knASLpgAR",
      "include_colab_link": true
    },
    "kernelspec": {
      "name": "python3",
      "display_name": "Python 3"
    },
    "language_info": {
      "name": "python"
    }
  },
  "cells": [
    {
      "cell_type": "markdown",
      "metadata": {
        "id": "view-in-github",
        "colab_type": "text"
      },
      "source": [
        "<a href=\"https://colab.research.google.com/github/athibhash5/myworkouts/blob/main/NLPexamples.ipynb\" target=\"_parent\"><img src=\"https://colab.research.google.com/assets/colab-badge.svg\" alt=\"Open In Colab\"/></a>"
      ]
    },
    {
      "cell_type": "markdown",
      "source": [],
      "metadata": {
        "id": "5ivD3V41yO_V"
      }
    },
    {
      "cell_type": "code",
      "execution_count": 39,
      "metadata": {
        "id": "kTaxfT5y2CLY"
      },
      "outputs": [],
      "source": [
        "# Sentiment Analysis"
      ]
    },
    {
      "cell_type": "code",
      "source": [
        "import pandas as pd\n",
        "data=pd.read_csv('/content/sentiment_tweets3.csv')\n",
        "data"
      ],
      "metadata": {
        "colab": {
          "base_uri": "https://localhost:8080/",
          "height": 423
        },
        "id": "tEu_rGeS2Mh3",
        "outputId": "302fc8d7-5976-4824-d90c-01dcc1e85c15"
      },
      "execution_count": 40,
      "outputs": [
        {
          "output_type": "execute_result",
          "data": {
            "text/plain": [
              "        Index                                 message to examine  \\\n",
              "0         106  just had a real good moment. i missssssssss hi...   \n",
              "1         217         is reading manga  http://plurk.com/p/mzp1e   \n",
              "2         220  @comeagainjen http://twitpic.com/2y2lx - http:...   \n",
              "3         288  @lapcat Need to send 'em to my accountant tomo...   \n",
              "4         540      ADD ME ON MYSPACE!!!  myspace.com/LookThunder   \n",
              "...       ...                                                ...   \n",
              "10309  802309  No Depression by G Herbo is my mood from now o...   \n",
              "10310  802310  What do you do when depression succumbs the br...   \n",
              "10311  802311  Ketamine Nasal Spray Shows Promise Against Dep...   \n",
              "10312  802312  dont mistake a bad day with depression! everyo...   \n",
              "10313  802313                                                  0   \n",
              "\n",
              "       label (depression result)  \n",
              "0                              0  \n",
              "1                              0  \n",
              "2                              0  \n",
              "3                              0  \n",
              "4                              0  \n",
              "...                          ...  \n",
              "10309                          1  \n",
              "10310                          1  \n",
              "10311                          1  \n",
              "10312                          1  \n",
              "10313                          1  \n",
              "\n",
              "[10314 rows x 3 columns]"
            ],
            "text/html": [
              "\n",
              "  <div id=\"df-e744110b-9afe-45c8-a3ae-b16d9762a530\" class=\"colab-df-container\">\n",
              "    <div>\n",
              "<style scoped>\n",
              "    .dataframe tbody tr th:only-of-type {\n",
              "        vertical-align: middle;\n",
              "    }\n",
              "\n",
              "    .dataframe tbody tr th {\n",
              "        vertical-align: top;\n",
              "    }\n",
              "\n",
              "    .dataframe thead th {\n",
              "        text-align: right;\n",
              "    }\n",
              "</style>\n",
              "<table border=\"1\" class=\"dataframe\">\n",
              "  <thead>\n",
              "    <tr style=\"text-align: right;\">\n",
              "      <th></th>\n",
              "      <th>Index</th>\n",
              "      <th>message to examine</th>\n",
              "      <th>label (depression result)</th>\n",
              "    </tr>\n",
              "  </thead>\n",
              "  <tbody>\n",
              "    <tr>\n",
              "      <th>0</th>\n",
              "      <td>106</td>\n",
              "      <td>just had a real good moment. i missssssssss hi...</td>\n",
              "      <td>0</td>\n",
              "    </tr>\n",
              "    <tr>\n",
              "      <th>1</th>\n",
              "      <td>217</td>\n",
              "      <td>is reading manga  http://plurk.com/p/mzp1e</td>\n",
              "      <td>0</td>\n",
              "    </tr>\n",
              "    <tr>\n",
              "      <th>2</th>\n",
              "      <td>220</td>\n",
              "      <td>@comeagainjen http://twitpic.com/2y2lx - http:...</td>\n",
              "      <td>0</td>\n",
              "    </tr>\n",
              "    <tr>\n",
              "      <th>3</th>\n",
              "      <td>288</td>\n",
              "      <td>@lapcat Need to send 'em to my accountant tomo...</td>\n",
              "      <td>0</td>\n",
              "    </tr>\n",
              "    <tr>\n",
              "      <th>4</th>\n",
              "      <td>540</td>\n",
              "      <td>ADD ME ON MYSPACE!!!  myspace.com/LookThunder</td>\n",
              "      <td>0</td>\n",
              "    </tr>\n",
              "    <tr>\n",
              "      <th>...</th>\n",
              "      <td>...</td>\n",
              "      <td>...</td>\n",
              "      <td>...</td>\n",
              "    </tr>\n",
              "    <tr>\n",
              "      <th>10309</th>\n",
              "      <td>802309</td>\n",
              "      <td>No Depression by G Herbo is my mood from now o...</td>\n",
              "      <td>1</td>\n",
              "    </tr>\n",
              "    <tr>\n",
              "      <th>10310</th>\n",
              "      <td>802310</td>\n",
              "      <td>What do you do when depression succumbs the br...</td>\n",
              "      <td>1</td>\n",
              "    </tr>\n",
              "    <tr>\n",
              "      <th>10311</th>\n",
              "      <td>802311</td>\n",
              "      <td>Ketamine Nasal Spray Shows Promise Against Dep...</td>\n",
              "      <td>1</td>\n",
              "    </tr>\n",
              "    <tr>\n",
              "      <th>10312</th>\n",
              "      <td>802312</td>\n",
              "      <td>dont mistake a bad day with depression! everyo...</td>\n",
              "      <td>1</td>\n",
              "    </tr>\n",
              "    <tr>\n",
              "      <th>10313</th>\n",
              "      <td>802313</td>\n",
              "      <td>0</td>\n",
              "      <td>1</td>\n",
              "    </tr>\n",
              "  </tbody>\n",
              "</table>\n",
              "<p>10314 rows × 3 columns</p>\n",
              "</div>\n",
              "    <div class=\"colab-df-buttons\">\n",
              "\n",
              "  <div class=\"colab-df-container\">\n",
              "    <button class=\"colab-df-convert\" onclick=\"convertToInteractive('df-e744110b-9afe-45c8-a3ae-b16d9762a530')\"\n",
              "            title=\"Convert this dataframe to an interactive table.\"\n",
              "            style=\"display:none;\">\n",
              "\n",
              "  <svg xmlns=\"http://www.w3.org/2000/svg\" height=\"24px\" viewBox=\"0 -960 960 960\">\n",
              "    <path d=\"M120-120v-720h720v720H120Zm60-500h600v-160H180v160Zm220 220h160v-160H400v160Zm0 220h160v-160H400v160ZM180-400h160v-160H180v160Zm440 0h160v-160H620v160ZM180-180h160v-160H180v160Zm440 0h160v-160H620v160Z\"/>\n",
              "  </svg>\n",
              "    </button>\n",
              "\n",
              "  <style>\n",
              "    .colab-df-container {\n",
              "      display:flex;\n",
              "      gap: 12px;\n",
              "    }\n",
              "\n",
              "    .colab-df-convert {\n",
              "      background-color: #E8F0FE;\n",
              "      border: none;\n",
              "      border-radius: 50%;\n",
              "      cursor: pointer;\n",
              "      display: none;\n",
              "      fill: #1967D2;\n",
              "      height: 32px;\n",
              "      padding: 0 0 0 0;\n",
              "      width: 32px;\n",
              "    }\n",
              "\n",
              "    .colab-df-convert:hover {\n",
              "      background-color: #E2EBFA;\n",
              "      box-shadow: 0px 1px 2px rgba(60, 64, 67, 0.3), 0px 1px 3px 1px rgba(60, 64, 67, 0.15);\n",
              "      fill: #174EA6;\n",
              "    }\n",
              "\n",
              "    .colab-df-buttons div {\n",
              "      margin-bottom: 4px;\n",
              "    }\n",
              "\n",
              "    [theme=dark] .colab-df-convert {\n",
              "      background-color: #3B4455;\n",
              "      fill: #D2E3FC;\n",
              "    }\n",
              "\n",
              "    [theme=dark] .colab-df-convert:hover {\n",
              "      background-color: #434B5C;\n",
              "      box-shadow: 0px 1px 3px 1px rgba(0, 0, 0, 0.15);\n",
              "      filter: drop-shadow(0px 1px 2px rgba(0, 0, 0, 0.3));\n",
              "      fill: #FFFFFF;\n",
              "    }\n",
              "  </style>\n",
              "\n",
              "    <script>\n",
              "      const buttonEl =\n",
              "        document.querySelector('#df-e744110b-9afe-45c8-a3ae-b16d9762a530 button.colab-df-convert');\n",
              "      buttonEl.style.display =\n",
              "        google.colab.kernel.accessAllowed ? 'block' : 'none';\n",
              "\n",
              "      async function convertToInteractive(key) {\n",
              "        const element = document.querySelector('#df-e744110b-9afe-45c8-a3ae-b16d9762a530');\n",
              "        const dataTable =\n",
              "          await google.colab.kernel.invokeFunction('convertToInteractive',\n",
              "                                                    [key], {});\n",
              "        if (!dataTable) return;\n",
              "\n",
              "        const docLinkHtml = 'Like what you see? Visit the ' +\n",
              "          '<a target=\"_blank\" href=https://colab.research.google.com/notebooks/data_table.ipynb>data table notebook</a>'\n",
              "          + ' to learn more about interactive tables.';\n",
              "        element.innerHTML = '';\n",
              "        dataTable['output_type'] = 'display_data';\n",
              "        await google.colab.output.renderOutput(dataTable, element);\n",
              "        const docLink = document.createElement('div');\n",
              "        docLink.innerHTML = docLinkHtml;\n",
              "        element.appendChild(docLink);\n",
              "      }\n",
              "    </script>\n",
              "  </div>\n",
              "\n",
              "\n",
              "<div id=\"df-ee0cffaf-a35e-47c9-bea8-c723f89b55e6\">\n",
              "  <button class=\"colab-df-quickchart\" onclick=\"quickchart('df-ee0cffaf-a35e-47c9-bea8-c723f89b55e6')\"\n",
              "            title=\"Suggest charts\"\n",
              "            style=\"display:none;\">\n",
              "\n",
              "<svg xmlns=\"http://www.w3.org/2000/svg\" height=\"24px\"viewBox=\"0 0 24 24\"\n",
              "     width=\"24px\">\n",
              "    <g>\n",
              "        <path d=\"M19 3H5c-1.1 0-2 .9-2 2v14c0 1.1.9 2 2 2h14c1.1 0 2-.9 2-2V5c0-1.1-.9-2-2-2zM9 17H7v-7h2v7zm4 0h-2V7h2v10zm4 0h-2v-4h2v4z\"/>\n",
              "    </g>\n",
              "</svg>\n",
              "  </button>\n",
              "\n",
              "<style>\n",
              "  .colab-df-quickchart {\n",
              "      --bg-color: #E8F0FE;\n",
              "      --fill-color: #1967D2;\n",
              "      --hover-bg-color: #E2EBFA;\n",
              "      --hover-fill-color: #174EA6;\n",
              "      --disabled-fill-color: #AAA;\n",
              "      --disabled-bg-color: #DDD;\n",
              "  }\n",
              "\n",
              "  [theme=dark] .colab-df-quickchart {\n",
              "      --bg-color: #3B4455;\n",
              "      --fill-color: #D2E3FC;\n",
              "      --hover-bg-color: #434B5C;\n",
              "      --hover-fill-color: #FFFFFF;\n",
              "      --disabled-bg-color: #3B4455;\n",
              "      --disabled-fill-color: #666;\n",
              "  }\n",
              "\n",
              "  .colab-df-quickchart {\n",
              "    background-color: var(--bg-color);\n",
              "    border: none;\n",
              "    border-radius: 50%;\n",
              "    cursor: pointer;\n",
              "    display: none;\n",
              "    fill: var(--fill-color);\n",
              "    height: 32px;\n",
              "    padding: 0;\n",
              "    width: 32px;\n",
              "  }\n",
              "\n",
              "  .colab-df-quickchart:hover {\n",
              "    background-color: var(--hover-bg-color);\n",
              "    box-shadow: 0 1px 2px rgba(60, 64, 67, 0.3), 0 1px 3px 1px rgba(60, 64, 67, 0.15);\n",
              "    fill: var(--button-hover-fill-color);\n",
              "  }\n",
              "\n",
              "  .colab-df-quickchart-complete:disabled,\n",
              "  .colab-df-quickchart-complete:disabled:hover {\n",
              "    background-color: var(--disabled-bg-color);\n",
              "    fill: var(--disabled-fill-color);\n",
              "    box-shadow: none;\n",
              "  }\n",
              "\n",
              "  .colab-df-spinner {\n",
              "    border: 2px solid var(--fill-color);\n",
              "    border-color: transparent;\n",
              "    border-bottom-color: var(--fill-color);\n",
              "    animation:\n",
              "      spin 1s steps(1) infinite;\n",
              "  }\n",
              "\n",
              "  @keyframes spin {\n",
              "    0% {\n",
              "      border-color: transparent;\n",
              "      border-bottom-color: var(--fill-color);\n",
              "      border-left-color: var(--fill-color);\n",
              "    }\n",
              "    20% {\n",
              "      border-color: transparent;\n",
              "      border-left-color: var(--fill-color);\n",
              "      border-top-color: var(--fill-color);\n",
              "    }\n",
              "    30% {\n",
              "      border-color: transparent;\n",
              "      border-left-color: var(--fill-color);\n",
              "      border-top-color: var(--fill-color);\n",
              "      border-right-color: var(--fill-color);\n",
              "    }\n",
              "    40% {\n",
              "      border-color: transparent;\n",
              "      border-right-color: var(--fill-color);\n",
              "      border-top-color: var(--fill-color);\n",
              "    }\n",
              "    60% {\n",
              "      border-color: transparent;\n",
              "      border-right-color: var(--fill-color);\n",
              "    }\n",
              "    80% {\n",
              "      border-color: transparent;\n",
              "      border-right-color: var(--fill-color);\n",
              "      border-bottom-color: var(--fill-color);\n",
              "    }\n",
              "    90% {\n",
              "      border-color: transparent;\n",
              "      border-bottom-color: var(--fill-color);\n",
              "    }\n",
              "  }\n",
              "</style>\n",
              "\n",
              "  <script>\n",
              "    async function quickchart(key) {\n",
              "      const quickchartButtonEl =\n",
              "        document.querySelector('#' + key + ' button');\n",
              "      quickchartButtonEl.disabled = true;  // To prevent multiple clicks.\n",
              "      quickchartButtonEl.classList.add('colab-df-spinner');\n",
              "      try {\n",
              "        const charts = await google.colab.kernel.invokeFunction(\n",
              "            'suggestCharts', [key], {});\n",
              "      } catch (error) {\n",
              "        console.error('Error during call to suggestCharts:', error);\n",
              "      }\n",
              "      quickchartButtonEl.classList.remove('colab-df-spinner');\n",
              "      quickchartButtonEl.classList.add('colab-df-quickchart-complete');\n",
              "    }\n",
              "    (() => {\n",
              "      let quickchartButtonEl =\n",
              "        document.querySelector('#df-ee0cffaf-a35e-47c9-bea8-c723f89b55e6 button');\n",
              "      quickchartButtonEl.style.display =\n",
              "        google.colab.kernel.accessAllowed ? 'block' : 'none';\n",
              "    })();\n",
              "  </script>\n",
              "</div>\n",
              "\n",
              "  <div id=\"id_b82e4448-48c4-476d-abdd-31c054dd036c\">\n",
              "    <style>\n",
              "      .colab-df-generate {\n",
              "        background-color: #E8F0FE;\n",
              "        border: none;\n",
              "        border-radius: 50%;\n",
              "        cursor: pointer;\n",
              "        display: none;\n",
              "        fill: #1967D2;\n",
              "        height: 32px;\n",
              "        padding: 0 0 0 0;\n",
              "        width: 32px;\n",
              "      }\n",
              "\n",
              "      .colab-df-generate:hover {\n",
              "        background-color: #E2EBFA;\n",
              "        box-shadow: 0px 1px 2px rgba(60, 64, 67, 0.3), 0px 1px 3px 1px rgba(60, 64, 67, 0.15);\n",
              "        fill: #174EA6;\n",
              "      }\n",
              "\n",
              "      [theme=dark] .colab-df-generate {\n",
              "        background-color: #3B4455;\n",
              "        fill: #D2E3FC;\n",
              "      }\n",
              "\n",
              "      [theme=dark] .colab-df-generate:hover {\n",
              "        background-color: #434B5C;\n",
              "        box-shadow: 0px 1px 3px 1px rgba(0, 0, 0, 0.15);\n",
              "        filter: drop-shadow(0px 1px 2px rgba(0, 0, 0, 0.3));\n",
              "        fill: #FFFFFF;\n",
              "      }\n",
              "    </style>\n",
              "    <button class=\"colab-df-generate\" onclick=\"generateWithVariable('data')\"\n",
              "            title=\"Generate code using this dataframe.\"\n",
              "            style=\"display:none;\">\n",
              "\n",
              "  <svg xmlns=\"http://www.w3.org/2000/svg\" height=\"24px\"viewBox=\"0 0 24 24\"\n",
              "       width=\"24px\">\n",
              "    <path d=\"M7,19H8.4L18.45,9,17,7.55,7,17.6ZM5,21V16.75L18.45,3.32a2,2,0,0,1,2.83,0l1.4,1.43a1.91,1.91,0,0,1,.58,1.4,1.91,1.91,0,0,1-.58,1.4L9.25,21ZM18.45,9,17,7.55Zm-12,3A5.31,5.31,0,0,0,4.9,8.1,5.31,5.31,0,0,0,1,6.5,5.31,5.31,0,0,0,4.9,4.9,5.31,5.31,0,0,0,6.5,1,5.31,5.31,0,0,0,8.1,4.9,5.31,5.31,0,0,0,12,6.5,5.46,5.46,0,0,0,6.5,12Z\"/>\n",
              "  </svg>\n",
              "    </button>\n",
              "    <script>\n",
              "      (() => {\n",
              "      const buttonEl =\n",
              "        document.querySelector('#id_b82e4448-48c4-476d-abdd-31c054dd036c button.colab-df-generate');\n",
              "      buttonEl.style.display =\n",
              "        google.colab.kernel.accessAllowed ? 'block' : 'none';\n",
              "\n",
              "      buttonEl.onclick = () => {\n",
              "        google.colab.notebook.generateWithVariable('data');\n",
              "      }\n",
              "      })();\n",
              "    </script>\n",
              "  </div>\n",
              "\n",
              "    </div>\n",
              "  </div>\n"
            ]
          },
          "metadata": {},
          "execution_count": 40
        }
      ]
    },
    {
      "cell_type": "code",
      "source": [
        "data.info()"
      ],
      "metadata": {
        "colab": {
          "base_uri": "https://localhost:8080/"
        },
        "id": "XEQuh9Fo2Mt7",
        "outputId": "b5fa8f2c-dc6b-4a27-94bb-87617d265a7d"
      },
      "execution_count": 41,
      "outputs": [
        {
          "output_type": "stream",
          "name": "stdout",
          "text": [
            "<class 'pandas.core.frame.DataFrame'>\n",
            "RangeIndex: 10314 entries, 0 to 10313\n",
            "Data columns (total 3 columns):\n",
            " #   Column                     Non-Null Count  Dtype \n",
            "---  ------                     --------------  ----- \n",
            " 0   Index                      10314 non-null  int64 \n",
            " 1   message to examine         10314 non-null  object\n",
            " 2   label (depression result)  10314 non-null  int64 \n",
            "dtypes: int64(2), object(1)\n",
            "memory usage: 241.9+ KB\n"
          ]
        }
      ]
    },
    {
      "cell_type": "code",
      "source": [
        "data.isna().any()"
      ],
      "metadata": {
        "colab": {
          "base_uri": "https://localhost:8080/"
        },
        "id": "qMfd-KW-2Mw2",
        "outputId": "2a81d1f5-d8b4-4a6a-a701-3d889243e875"
      },
      "execution_count": 42,
      "outputs": [
        {
          "output_type": "execute_result",
          "data": {
            "text/plain": [
              "Index                        False\n",
              "message to examine           False\n",
              "label (depression result)    False\n",
              "dtype: bool"
            ]
          },
          "metadata": {},
          "execution_count": 42
        }
      ]
    },
    {
      "cell_type": "code",
      "source": [
        "text=data.iloc[:,1]\n",
        "text.head()"
      ],
      "metadata": {
        "colab": {
          "base_uri": "https://localhost:8080/"
        },
        "id": "TRzXSiIf2Mze",
        "outputId": "ce6100fa-6bea-46b1-94b7-86a7222098b4"
      },
      "execution_count": 43,
      "outputs": [
        {
          "output_type": "execute_result",
          "data": {
            "text/plain": [
              "0    just had a real good moment. i missssssssss hi...\n",
              "1           is reading manga  http://plurk.com/p/mzp1e\n",
              "2    @comeagainjen http://twitpic.com/2y2lx - http:...\n",
              "3    @lapcat Need to send 'em to my accountant tomo...\n",
              "4        ADD ME ON MYSPACE!!!  myspace.com/LookThunder\n",
              "Name: message to examine, dtype: object"
            ]
          },
          "metadata": {},
          "execution_count": 43
        }
      ]
    },
    {
      "cell_type": "code",
      "source": [
        "# Tokenize"
      ],
      "metadata": {
        "id": "Y-4CiQWD2M2j"
      },
      "execution_count": 44,
      "outputs": []
    },
    {
      "cell_type": "code",
      "source": [
        "import nltk\n",
        "from nltk import TweetTokenizer\n",
        "tk=TweetTokenizer()\n",
        "text=text.apply(lambda x:tk.tokenize(x)).apply(lambda x:\" \".join(x)) # here apply tokenization and then join the tokenized test with \" \"(space).and then appy this to text\n",
        "text\n"
      ],
      "metadata": {
        "colab": {
          "base_uri": "https://localhost:8080/"
        },
        "id": "-pD1RDfs2M5b",
        "outputId": "fe75d277-9d0c-4d9e-d754-26cc9be18f03"
      },
      "execution_count": 45,
      "outputs": [
        {
          "output_type": "execute_result",
          "data": {
            "text/plain": [
              "0        just had a real good moment . i missssssssss h...\n",
              "1                is reading manga http://plurk.com/p/mzp1e\n",
              "2        @comeagainjen http://twitpic.com/2y2lx - http:...\n",
              "3        @lapcat Need to send ' em to my accountant tom...\n",
              "4          ADD ME ON MYSPACE ! ! ! myspace.com/LookThunder\n",
              "                               ...                        \n",
              "10309    No Depression by G Herbo is my mood from now o...\n",
              "10310    What do you do when depression succumbs the br...\n",
              "10311    Ketamine Nasal Spray Shows Promise Against Dep...\n",
              "10312    dont mistake a bad day with depression ! every...\n",
              "10313                                                    0\n",
              "Name: message to examine, Length: 10314, dtype: object"
            ]
          },
          "metadata": {},
          "execution_count": 45
        }
      ]
    },
    {
      "cell_type": "markdown",
      "source": [
        "lambda function:\n",
        " syntax-> lambda arguments: expression\n",
        "\n",
        " Here, arguments are the input parameters, and expression is the operation performed by the function.\n",
        "\n",
        "1.(lambda x:tk.tokenize(x)) > here performing tokenization.\n",
        "\n",
        "2.(lambda x:\" \".join(x) > join the text with \" \" after tokenization\n",
        "\n",
        "3.lambda x:tk.tokenize(x)).apply(lambda x:\" \".join(x)) > apply 2 in 1\n",
        "\n",
        "4.text=text.apply(lambda x:tk.tokenize(x)).apply(lambda x:\" \".join(x)) > apply 3 in 4\n",
        "\n",
        "\n",
        "\n"
      ],
      "metadata": {
        "id": "VknKgRkr0rgy"
      }
    },
    {
      "cell_type": "code",
      "source": [
        "text=text.str.replace('[^a-zA-Z0-9]+',' ') # things after ^ this symbol avoided, here replace all other strings in text and join with ' '.\n",
        "text"
      ],
      "metadata": {
        "colab": {
          "base_uri": "https://localhost:8080/"
        },
        "id": "xe1CGVop2M8Q",
        "outputId": "e386d48f-6c17-4312-e0b6-39d49433b5a7"
      },
      "execution_count": 46,
      "outputs": [
        {
          "output_type": "stream",
          "name": "stderr",
          "text": [
            "<ipython-input-46-17d87946c057>:1: FutureWarning: The default value of regex will change from True to False in a future version.\n",
            "  text=text.str.replace('[^a-zA-Z0-9]+',' ')\n"
          ]
        },
        {
          "output_type": "execute_result",
          "data": {
            "text/plain": [
              "0        just had a real good moment i missssssssss him...\n",
              "1                  is reading manga http plurk com p mzp1e\n",
              "2         comeagainjen http twitpic com 2y2lx http www ...\n",
              "3         lapcat Need to send em to my accountant tomor...\n",
              "4                ADD ME ON MYSPACE myspace com LookThunder\n",
              "                               ...                        \n",
              "10309    No Depression by G Herbo is my mood from now o...\n",
              "10310    What do you do when depression succumbs the br...\n",
              "10311    Ketamine Nasal Spray Shows Promise Against Dep...\n",
              "10312    dont mistake a bad day with depression everyon...\n",
              "10313                                                    0\n",
              "Name: message to examine, Length: 10314, dtype: object"
            ]
          },
          "metadata": {},
          "execution_count": 46
        }
      ]
    },
    {
      "cell_type": "markdown",
      "source": [
        "things after ^ this symbol avoided, here replace all other strings with ' ' in text and join.\n",
        "\n",
        "So, after this line of code, the 'text' series will have had non-alphanumeric characters (ie, special charactors,slash,ect)replaced with spaces, leaving only letters, numbers, and single spaces in each element."
      ],
      "metadata": {
        "id": "wOBfMXPe3Ch8"
      }
    },
    {
      "cell_type": "code",
      "source": [
        "from nltk.tokenize import word_tokenize\n",
        "nltk.download('punkt')\n",
        "text=text.apply(lambda x:' '.join([w for w in word_tokenize(x)if len(w)>=3]))  #filters out words with a length less than 3 and joins the remaining words into a space-separated string.\n",
        "text"
      ],
      "metadata": {
        "colab": {
          "base_uri": "https://localhost:8080/"
        },
        "id": "nTkuPILf2M_d",
        "outputId": "a68064bb-17da-4de4-bfc7-0e4bfa7fc40b"
      },
      "execution_count": 47,
      "outputs": [
        {
          "output_type": "stream",
          "name": "stderr",
          "text": [
            "[nltk_data] Downloading package punkt to /root/nltk_data...\n",
            "[nltk_data]   Package punkt is already up-to-date!\n"
          ]
        },
        {
          "output_type": "execute_result",
          "data": {
            "text/plain": [
              "0          just had real good moment missssssssss him much\n",
              "1                       reading manga http plurk com mzp1e\n",
              "2        comeagainjen http twitpic com 2y2lx http www y...\n",
              "3        lapcat Need send accountant tomorrow Oddly was...\n",
              "4                      ADD MYSPACE myspace com LookThunder\n",
              "                               ...                        \n",
              "10309    Depression Herbo mood from now done stressing ...\n",
              "10310    What you when depression succumbs the brain an...\n",
              "10311    Ketamine Nasal Spray Shows Promise Against Dep...\n",
              "10312    dont mistake bad day with depression everyone has\n",
              "10313                                                     \n",
              "Name: message to examine, Length: 10314, dtype: object"
            ]
          },
          "metadata": {},
          "execution_count": 47
        }
      ]
    },
    {
      "cell_type": "markdown",
      "source": [
        "the code is processing each text element, tokenizing it, and creating a new text string with only words that have a length of 3 or more.\n",
        "\n",
        "\n",
        "\n",
        "\n",
        "\n"
      ],
      "metadata": {
        "id": "447k1ojy4Mns"
      }
    },
    {
      "cell_type": "code",
      "source": [
        "from nltk.stem import SnowballStemmer\n",
        "stemmer=SnowballStemmer('english')\n",
        "text=text.apply(lambda x:[stemmer.stem(i.lower())for i in tk.tokenize(x)]).apply(lambda x:\" \".join(x))\n",
        "text"
      ],
      "metadata": {
        "colab": {
          "base_uri": "https://localhost:8080/"
        },
        "id": "QggWNnHk94Sb",
        "outputId": "9b49acee-f2b0-41c5-ff83-3987442229a3"
      },
      "execution_count": 48,
      "outputs": [
        {
          "output_type": "execute_result",
          "data": {
            "text/plain": [
              "0          just had real good moment missssssssss him much\n",
              "1                         read manga http plurk com mzp 1e\n",
              "2        comeagainjen http twitpic com 2y2lx http www y...\n",
              "3        lapcat need send account tomorrow odd wasn eve...\n",
              "4                          add myspac myspac com lookthund\n",
              "                               ...                        \n",
              "10309    depress herbo mood from now done stress over p...\n",
              "10310    what you when depress succumb the brain and ma...\n",
              "10311    ketamin nasal spray show promis against depres...\n",
              "10312         dont mistak bad day with depress everyon has\n",
              "10313                                                     \n",
              "Name: message to examine, Length: 10314, dtype: object"
            ]
          },
          "metadata": {},
          "execution_count": 48
        }
      ]
    },
    {
      "cell_type": "markdown",
      "source": [
        "text = text.apply(lambda x: [stemmer.stem(i.lower()) for i in tk.\n",
        "tokenize(x)]).apply(lambda x: \" \".join(x))\n",
        "\n",
        "lambda x: [stemmer.stem(i.lower()) for i in tk.tokenize(x)]: This lambda function tokenizes the input text using tk.tokenize(), converts each token to lowercase (i.lower()), and then applies stemming using stemmer.stem() to each token. It returns a list of stemmed and lowercase tokens.\n",
        "\n",
        ".apply(lambda x: \" \".join(x)): This applies another lambda function to join the list of stemmed tokens into a space-separated string.\n",
        "\n",
        "\n",
        "\n",
        "1.Tokenizes the text using TweetTokenizer.\n",
        "\n",
        "2.Converts each token to lowercase.\n",
        "\n",
        "3.Applies stemming to each lowercase token.\n",
        "\n",
        "4.Joins the stemmed tokens into a space-separated string.\n"
      ],
      "metadata": {
        "id": "Pe0S4X644i5l"
      }
    },
    {
      "cell_type": "code",
      "source": [
        "import nltk\n",
        "nltk.download('stopwords')\n",
        "from nltk.corpus import stopwords\n",
        "stop=stopwords.words('english')\n",
        "text=text.apply(lambda x:[i for i in word_tokenize(x)if i not in stop]).apply(lambda x:\" \".join(x))\n",
        "text"
      ],
      "metadata": {
        "id": "QoihyNgM94d8",
        "colab": {
          "base_uri": "https://localhost:8080/"
        },
        "outputId": "a9d609bb-9cb5-43a9-9060-8c4b5ebbf85b"
      },
      "execution_count": 49,
      "outputs": [
        {
          "output_type": "stream",
          "name": "stderr",
          "text": [
            "[nltk_data] Downloading package stopwords to /root/nltk_data...\n",
            "[nltk_data]   Package stopwords is already up-to-date!\n"
          ]
        },
        {
          "output_type": "execute_result",
          "data": {
            "text/plain": [
              "0                       real good moment missssssssss much\n",
              "1                         read manga http plurk com mzp 1e\n",
              "2        comeagainjen http twitpic com 2y2lx http www y...\n",
              "3        lapcat need send account tomorrow odd even ref...\n",
              "4                          add myspac myspac com lookthund\n",
              "                               ...                        \n",
              "10309          depress herbo mood done stress peopl deserv\n",
              "10310    depress succumb brain make feel like never enough\n",
              "10311    ketamin nasal spray show promis depress suicid...\n",
              "10312                  dont mistak bad day depress everyon\n",
              "10313                                                     \n",
              "Name: message to examine, Length: 10314, dtype: object"
            ]
          },
          "metadata": {},
          "execution_count": 49
        }
      ]
    },
    {
      "cell_type": "markdown",
      "source": [
        "lambda x: [i for i in word_tokenize(x) if i not in stop]: This lambda function tokenizes the input text using word_tokenize and filters out stopwords.\n",
        "\n",
        ".apply(lambda x: \" \".join(x)): This applies another lambda function to join the list of tokens into a space-separated string."
      ],
      "metadata": {
        "id": "23IQwzX65PR4"
      }
    },
    {
      "cell_type": "code",
      "source": [
        "from sklearn.feature_extraction.text import TfidfVectorizer\n",
        "vec=TfidfVectorizer()\n",
        "train_data_vec=vec.fit_transform(text) # Applying the vectorizer to the 'text' data. This line transforms the input text data into a TF-IDF matrix representation.\n",
        "print(train_data_vec)\n",
        "train_data_vec.shape\n"
      ],
      "metadata": {
        "id": "A2DbnaJl94gK",
        "colab": {
          "base_uri": "https://localhost:8080/"
        },
        "outputId": "7b1d29d4-5608-4f94-9a54-f9b8edaae929"
      },
      "execution_count": 50,
      "outputs": [
        {
          "output_type": "stream",
          "name": "stdout",
          "text": [
            "  (0, 11972)\t0.3308656896635815\n",
            "  (0, 11653)\t0.6664789134825422\n",
            "  (0, 11760)\t0.47516424735585633\n",
            "  (0, 7606)\t0.25960993354599604\n",
            "  (0, 14207)\t0.3913507042609722\n",
            "  (1, 327)\t0.49276308201303815\n",
            "  (1, 12106)\t0.49276308201303815\n",
            "  (1, 4599)\t0.1766245001829646\n",
            "  (1, 13521)\t0.3496755548074766\n",
            "  (1, 8541)\t0.1912647781355139\n",
            "  (1, 11030)\t0.49276308201303815\n",
            "  (1, 14200)\t0.28548592253386107\n",
            "  (2, 607)\t0.40156274938331676\n",
            "  (2, 19015)\t0.40156274938331676\n",
            "  (2, 18141)\t0.1925505399388701\n",
            "  (2, 18890)\t0.2645390998121607\n",
            "  (2, 18614)\t0.19652974259272796\n",
            "  (2, 674)\t0.40156274938331676\n",
            "  (2, 17509)\t0.2276527357980494\n",
            "  (2, 4605)\t0.37241150869357437\n",
            "  (2, 4599)\t0.2878698607540926\n",
            "  (2, 8541)\t0.31173118673794986\n",
            "  (3, 16983)\t0.23183737310840505\n",
            "  (3, 6520)\t0.3218377749492992\n",
            "  (3, 16410)\t0.2530330269558558\n",
            "  :\t:\n",
            "  (10310, 16304)\t0.5698836837707327\n",
            "  (10310, 5462)\t0.15619860113622247\n",
            "  (10310, 3509)\t0.41675089151732847\n",
            "  (10310, 6337)\t0.38972157483187514\n",
            "  (10310, 12304)\t0.32815334651555794\n",
            "  (10310, 6769)\t0.28283508164424764\n",
            "  (10310, 10979)\t0.28059048582357615\n",
            "  (10310, 10465)\t0.24260884058971016\n",
            "  (10311, 943)\t0.40644024083353036\n",
            "  (10311, 4518)\t0.3674363298183382\n",
            "  (10311, 12179)\t0.3769349211674743\n",
            "  (10311, 9856)\t0.35311365610820084\n",
            "  (10311, 16333)\t0.2515984619650866\n",
            "  (10311, 5462)\t0.1066699892758836\n",
            "  (10311, 8098)\t0.23547414841880326\n",
            "  (10311, 16006)\t0.35967541559104105\n",
            "  (10311, 8542)\t0.1757033607017036\n",
            "  (10311, 13814)\t0.30247641895691435\n",
            "  (10311, 15465)\t0.226206274048369\n",
            "  (10312, 5462)\t0.19010512949744532\n",
            "  (10312, 11658)\t0.5884225663477576\n",
            "  (10312, 2752)\t0.4196573355105594\n",
            "  (10312, 6514)\t0.38776718079759903\n",
            "  (10312, 5843)\t0.45795551453948924\n",
            "  (10312, 5282)\t0.2853419073722084\n"
          ]
        },
        {
          "output_type": "execute_result",
          "data": {
            "text/plain": [
              "(10314, 19040)"
            ]
          },
          "metadata": {},
          "execution_count": 50
        }
      ]
    },
    {
      "cell_type": "code",
      "source": [
        "y=data['label (depression result)']\n",
        "y=y.values\n",
        "y"
      ],
      "metadata": {
        "id": "83rYRwqO94jm",
        "colab": {
          "base_uri": "https://localhost:8080/"
        },
        "outputId": "008608fc-adc2-4bef-eb44-305ea31ddc49"
      },
      "execution_count": 51,
      "outputs": [
        {
          "output_type": "execute_result",
          "data": {
            "text/plain": [
              "array([0, 0, 0, ..., 1, 1, 1])"
            ]
          },
          "metadata": {},
          "execution_count": 51
        }
      ]
    },
    {
      "cell_type": "code",
      "source": [
        "from sklearn.model_selection import train_test_split\n",
        "xtrain,xtest,ytrain,ytest=train_test_split(train_data_vec,y,test_size=0.2,random_state=0)\n"
      ],
      "metadata": {
        "id": "qxDaE2Bmt8qS"
      },
      "execution_count": 52,
      "outputs": []
    },
    {
      "cell_type": "code",
      "source": [
        "from sklearn.ensemble import RandomForestClassifier\n",
        "model=RandomForestClassifier()\n",
        "model.fit(xtrain,ytrain)\n",
        "ypred=model.predict(xtest)\n",
        "ypred\n"
      ],
      "metadata": {
        "colab": {
          "base_uri": "https://localhost:8080/"
        },
        "id": "hMtEbmRbt85Z",
        "outputId": "ac26286c-6463-44f8-8d2e-a12370a203d3"
      },
      "execution_count": 37,
      "outputs": [
        {
          "output_type": "execute_result",
          "data": {
            "text/plain": [
              "array([1, 1, 1, ..., 1, 1, 1])"
            ]
          },
          "metadata": {},
          "execution_count": 37
        }
      ]
    },
    {
      "cell_type": "code",
      "source": [
        "from sklearn.metrics import accuracy_score\n",
        "accuracy_score(ytest,ypred)"
      ],
      "metadata": {
        "colab": {
          "base_uri": "https://localhost:8080/"
        },
        "id": "aT3IW1ktt88P",
        "outputId": "c2fc6417-6af6-41a8-a2be-26292ac8e22a"
      },
      "execution_count": 38,
      "outputs": [
        {
          "output_type": "execute_result",
          "data": {
            "text/plain": [
              "0.2506059137178866"
            ]
          },
          "metadata": {},
          "execution_count": 38
        }
      ]
    },
    {
      "cell_type": "code",
      "source": [],
      "metadata": {
        "id": "Co6zA5dHt8_t"
      },
      "execution_count": 38,
      "outputs": []
    },
    {
      "cell_type": "code",
      "source": [],
      "metadata": {
        "id": "3z0ShnO7t9Cp"
      },
      "execution_count": 38,
      "outputs": []
    },
    {
      "cell_type": "code",
      "source": [],
      "metadata": {
        "id": "ijTu6U7kt9F-"
      },
      "execution_count": 38,
      "outputs": []
    },
    {
      "cell_type": "code",
      "source": [],
      "metadata": {
        "id": "nw9_nVbht9Ja"
      },
      "execution_count": 38,
      "outputs": []
    }
  ]
}