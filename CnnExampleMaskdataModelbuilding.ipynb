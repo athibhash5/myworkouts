{
 "cells": [
  {
   "cell_type": "markdown",
   "id": "3c885840-8e92-4986-b235-1eee237a8b38",
   "metadata": {},
   "source": [
    "# Model Building"
   ]
  },
  {
   "cell_type": "code",
   "execution_count": 3,
   "id": "b8d2c4d0-46ac-4945-bd3f-044af77c6cfc",
   "metadata": {},
   "outputs": [],
   "source": [
    "import numpy as np\n",
    "data=np.load('data.npy')\n",
    "target=np.load('target.npy')\n"
   ]
  },
  {
   "cell_type": "code",
   "execution_count": 4,
   "id": "4382c972-8d63-4f5f-a86f-2abd635c938d",
   "metadata": {},
   "outputs": [],
   "source": [
    "from keras.models import Sequential\n",
    "from keras.layers import Dense,Activation,Flatten,Dropout\n",
    "from keras.layers import Conv2D,MaxPooling2D\n",
    "from keras.callbacks import ModelCheckpoint"
   ]
  },
  {
   "cell_type": "code",
   "execution_count": 5,
   "id": "8ce281b4-8585-479e-a4c2-c41da10b7e03",
   "metadata": {},
   "outputs": [],
   "source": [
    "model=Sequential()\n",
    "model.add(Conv2D(200,(3,3),input_shape=data.shape[1:])) #note added below\n",
    "model.add(Activation('relu'))\n",
    "model.add(MaxPooling2D(pool_size=(2,2)))                #1st cnn layer  \n",
    "model.add(Conv2D(100,(3,3)))\n",
    "model.add(Activation('relu'))\n",
    "model.add(MaxPooling2D(pool_size=(2,2)))                #2nd cnn layer\n",
    "model.add(Flatten())                                    #flatten layer to stack the output convolutions fromsecond convolution layer\n",
    "model.add(Dropout(0.5))                                 #Dropout is a regularization technique that helps prevent overfitting by randomly setting a fraction (in this case, 50%) of input units to zero during training. This introduces noise to the model and prevents it from relying too much on specific features during training\n",
    "model.add(Dense(50,activation='relu'))                  #dense layer of 50 neurons\n",
    "model.add(Dense(2,activation='softmax'))                #the final layer with two outputs for two categories\n",
    "          "
   ]
  },
  {
   "cell_type": "code",
   "execution_count": 6,
   "id": "57f017d2-ae24-42ad-a101-ef86bd9a3fa0",
   "metadata": {},
   "outputs": [
    {
     "data": {
      "text/plain": [
       "(100, 100, 1)"
      ]
     },
     "execution_count": 6,
     "metadata": {},
     "output_type": "execute_result"
    }
   ],
   "source": [
    "data.shape[1:]"
   ]
  },
  {
   "cell_type": "code",
   "execution_count": 7,
   "id": "e4472f03-30d3-4683-943e-8a778c83c105",
   "metadata": {},
   "outputs": [],
   "source": [
    "#Conv2D: This is the type of layer adding, a 2D convolutional layer\n",
    "#200: This is the number of filters (or kernels) in the convolutional layer. Each filter learns different patterns in the input data.\n",
    "#(3, 3): This is the size of each filter. In this case, it's a 3x3 filter. Smaller filter sizes are common in the initial layers of a convolutional neural network.\n",
    "#input_shape=data.shape[1:]: This specifies the shape of the input data that will be fed into this layer.\n",
    "\n",
    "\n",
    "\n",
    "#Max pooling is a downsampling operation that reduces the spatial dimensions of the input data. In this case, it uses a pool size of (2,2), meaning it takes the maximum value from a 2x2 region of the input."
   ]
  },
  {
   "cell_type": "code",
   "execution_count": 8,
   "id": "eac2032b-6557-4556-80ed-9c41116bc9a8",
   "metadata": {},
   "outputs": [
    {
     "name": "stdout",
     "output_type": "stream",
     "text": [
      "Epoch 1/20\n",
      "39/39 [==============================] - ETA: 0s - loss: 0.6949 - accuracy: 0.5533"
     ]
    },
    {
     "name": "stderr",
     "output_type": "stream",
     "text": [
      "WARNING:absl:Found untraced functions such as _jit_compiled_convolution_op, _jit_compiled_convolution_op while saving (showing 2 of 2). These functions will not be directly callable after loading.\n"
     ]
    },
    {
     "name": "stdout",
     "output_type": "stream",
     "text": [
      "INFO:tensorflow:Assets written to: model-001.model\\assets\n"
     ]
    },
    {
     "name": "stderr",
     "output_type": "stream",
     "text": [
      "INFO:tensorflow:Assets written to: model-001.model\\assets\n"
     ]
    },
    {
     "name": "stdout",
     "output_type": "stream",
     "text": [
      "39/39 [==============================] - 55s 1s/step - loss: 0.6949 - accuracy: 0.5533 - val_loss: 0.6193 - val_accuracy: 0.6594\n",
      "Epoch 2/20\n",
      "39/39 [==============================] - ETA: 0s - loss: 0.5390 - accuracy: 0.7254"
     ]
    },
    {
     "name": "stderr",
     "output_type": "stream",
     "text": [
      "WARNING:absl:Found untraced functions such as _jit_compiled_convolution_op, _jit_compiled_convolution_op while saving (showing 2 of 2). These functions will not be directly callable after loading.\n"
     ]
    },
    {
     "name": "stdout",
     "output_type": "stream",
     "text": [
      "INFO:tensorflow:Assets written to: model-002.model\\assets\n"
     ]
    },
    {
     "name": "stderr",
     "output_type": "stream",
     "text": [
      "INFO:tensorflow:Assets written to: model-002.model\\assets\n"
     ]
    },
    {
     "name": "stdout",
     "output_type": "stream",
     "text": [
      "39/39 [==============================] - 49s 1s/step - loss: 0.5390 - accuracy: 0.7254 - val_loss: 0.4902 - val_accuracy: 0.7609\n",
      "Epoch 3/20\n",
      "39/39 [==============================] - ETA: 0s - loss: 0.3506 - accuracy: 0.8578"
     ]
    },
    {
     "name": "stderr",
     "output_type": "stream",
     "text": [
      "WARNING:absl:Found untraced functions such as _jit_compiled_convolution_op, _jit_compiled_convolution_op while saving (showing 2 of 2). These functions will not be directly callable after loading.\n"
     ]
    },
    {
     "name": "stdout",
     "output_type": "stream",
     "text": [
      "INFO:tensorflow:Assets written to: model-003.model\\assets\n"
     ]
    },
    {
     "name": "stderr",
     "output_type": "stream",
     "text": [
      "INFO:tensorflow:Assets written to: model-003.model\\assets\n"
     ]
    },
    {
     "name": "stdout",
     "output_type": "stream",
     "text": [
      "39/39 [==============================] - 51s 1s/step - loss: 0.3506 - accuracy: 0.8578 - val_loss: 0.3389 - val_accuracy: 0.8768\n",
      "Epoch 4/20\n",
      "39/39 [==============================] - ETA: 0s - loss: 0.2267 - accuracy: 0.9160"
     ]
    },
    {
     "name": "stderr",
     "output_type": "stream",
     "text": [
      "WARNING:absl:Found untraced functions such as _jit_compiled_convolution_op, _jit_compiled_convolution_op while saving (showing 2 of 2). These functions will not be directly callable after loading.\n"
     ]
    },
    {
     "name": "stdout",
     "output_type": "stream",
     "text": [
      "INFO:tensorflow:Assets written to: model-004.model\\assets\n"
     ]
    },
    {
     "name": "stderr",
     "output_type": "stream",
     "text": [
      "INFO:tensorflow:Assets written to: model-004.model\\assets\n"
     ]
    },
    {
     "name": "stdout",
     "output_type": "stream",
     "text": [
      "39/39 [==============================] - 50s 1s/step - loss: 0.2267 - accuracy: 0.9160 - val_loss: 0.2686 - val_accuracy: 0.8986\n",
      "Epoch 5/20\n",
      "39/39 [==============================] - ETA: 0s - loss: 0.2021 - accuracy: 0.9330"
     ]
    },
    {
     "name": "stderr",
     "output_type": "stream",
     "text": [
      "WARNING:absl:Found untraced functions such as _jit_compiled_convolution_op, _jit_compiled_convolution_op while saving (showing 2 of 2). These functions will not be directly callable after loading.\n"
     ]
    },
    {
     "name": "stdout",
     "output_type": "stream",
     "text": [
      "INFO:tensorflow:Assets written to: model-005.model\\assets\n"
     ]
    },
    {
     "name": "stderr",
     "output_type": "stream",
     "text": [
      "INFO:tensorflow:Assets written to: model-005.model\\assets\n"
     ]
    },
    {
     "name": "stdout",
     "output_type": "stream",
     "text": [
      "39/39 [==============================] - 53s 1s/step - loss: 0.2021 - accuracy: 0.9330 - val_loss: 0.2388 - val_accuracy: 0.9058\n",
      "Epoch 6/20\n",
      "39/39 [==============================] - ETA: 0s - loss: 0.1984 - accuracy: 0.9313"
     ]
    },
    {
     "name": "stderr",
     "output_type": "stream",
     "text": [
      "WARNING:absl:Found untraced functions such as _jit_compiled_convolution_op, _jit_compiled_convolution_op while saving (showing 2 of 2). These functions will not be directly callable after loading.\n"
     ]
    },
    {
     "name": "stdout",
     "output_type": "stream",
     "text": [
      "INFO:tensorflow:Assets written to: model-006.model\\assets\n"
     ]
    },
    {
     "name": "stderr",
     "output_type": "stream",
     "text": [
      "INFO:tensorflow:Assets written to: model-006.model\\assets\n"
     ]
    },
    {
     "name": "stdout",
     "output_type": "stream",
     "text": [
      "39/39 [==============================] - 54s 1s/step - loss: 0.1984 - accuracy: 0.9313 - val_loss: 0.2037 - val_accuracy: 0.9203\n",
      "Epoch 7/20\n",
      "39/39 [==============================] - ETA: 0s - loss: 0.1259 - accuracy: 0.9596"
     ]
    },
    {
     "name": "stderr",
     "output_type": "stream",
     "text": [
      "WARNING:absl:Found untraced functions such as _jit_compiled_convolution_op, _jit_compiled_convolution_op while saving (showing 2 of 2). These functions will not be directly callable after loading.\n"
     ]
    },
    {
     "name": "stdout",
     "output_type": "stream",
     "text": [
      "INFO:tensorflow:Assets written to: model-007.model\\assets\n"
     ]
    },
    {
     "name": "stderr",
     "output_type": "stream",
     "text": [
      "INFO:tensorflow:Assets written to: model-007.model\\assets\n"
     ]
    },
    {
     "name": "stdout",
     "output_type": "stream",
     "text": [
      "39/39 [==============================] - 57s 1s/step - loss: 0.1259 - accuracy: 0.9596 - val_loss: 0.1778 - val_accuracy: 0.9203\n",
      "Epoch 8/20\n",
      "39/39 [==============================] - ETA: 0s - loss: 0.0994 - accuracy: 0.9661"
     ]
    },
    {
     "name": "stderr",
     "output_type": "stream",
     "text": [
      "WARNING:absl:Found untraced functions such as _jit_compiled_convolution_op, _jit_compiled_convolution_op while saving (showing 2 of 2). These functions will not be directly callable after loading.\n"
     ]
    },
    {
     "name": "stdout",
     "output_type": "stream",
     "text": [
      "INFO:tensorflow:Assets written to: model-008.model\\assets\n"
     ]
    },
    {
     "name": "stderr",
     "output_type": "stream",
     "text": [
      "INFO:tensorflow:Assets written to: model-008.model\\assets\n"
     ]
    },
    {
     "name": "stdout",
     "output_type": "stream",
     "text": [
      "39/39 [==============================] - 52s 1s/step - loss: 0.0994 - accuracy: 0.9661 - val_loss: 0.1436 - val_accuracy: 0.9420\n",
      "Epoch 9/20\n",
      "39/39 [==============================] - 51s 1s/step - loss: 0.0913 - accuracy: 0.9669 - val_loss: 0.1520 - val_accuracy: 0.9420\n",
      "Epoch 10/20\n",
      "39/39 [==============================] - 54s 1s/step - loss: 0.0641 - accuracy: 0.9790 - val_loss: 0.1757 - val_accuracy: 0.9493\n",
      "Epoch 11/20\n",
      "39/39 [==============================] - 53s 1s/step - loss: 0.0573 - accuracy: 0.9814 - val_loss: 0.1465 - val_accuracy: 0.9493\n",
      "Epoch 12/20\n",
      "39/39 [==============================] - 52s 1s/step - loss: 0.0612 - accuracy: 0.9742 - val_loss: 0.1565 - val_accuracy: 0.9565\n",
      "Epoch 13/20\n",
      "39/39 [==============================] - ETA: 0s - loss: 0.0712 - accuracy: 0.9742"
     ]
    },
    {
     "name": "stderr",
     "output_type": "stream",
     "text": [
      "WARNING:absl:Found untraced functions such as _jit_compiled_convolution_op, _jit_compiled_convolution_op while saving (showing 2 of 2). These functions will not be directly callable after loading.\n"
     ]
    },
    {
     "name": "stdout",
     "output_type": "stream",
     "text": [
      "INFO:tensorflow:Assets written to: model-013.model\\assets\n"
     ]
    },
    {
     "name": "stderr",
     "output_type": "stream",
     "text": [
      "INFO:tensorflow:Assets written to: model-013.model\\assets\n"
     ]
    },
    {
     "name": "stdout",
     "output_type": "stream",
     "text": [
      "39/39 [==============================] - 54s 1s/step - loss: 0.0712 - accuracy: 0.9742 - val_loss: 0.1362 - val_accuracy: 0.9565\n",
      "Epoch 14/20\n",
      "39/39 [==============================] - 53s 1s/step - loss: 0.0335 - accuracy: 0.9879 - val_loss: 0.1381 - val_accuracy: 0.9638\n",
      "Epoch 15/20\n",
      "39/39 [==============================] - ETA: 0s - loss: 0.0476 - accuracy: 0.9830"
     ]
    },
    {
     "name": "stderr",
     "output_type": "stream",
     "text": [
      "WARNING:absl:Found untraced functions such as _jit_compiled_convolution_op, _jit_compiled_convolution_op while saving (showing 2 of 2). These functions will not be directly callable after loading.\n"
     ]
    },
    {
     "name": "stdout",
     "output_type": "stream",
     "text": [
      "INFO:tensorflow:Assets written to: model-015.model\\assets\n"
     ]
    },
    {
     "name": "stderr",
     "output_type": "stream",
     "text": [
      "INFO:tensorflow:Assets written to: model-015.model\\assets\n"
     ]
    },
    {
     "name": "stdout",
     "output_type": "stream",
     "text": [
      "39/39 [==============================] - 61s 2s/step - loss: 0.0476 - accuracy: 0.9830 - val_loss: 0.1329 - val_accuracy: 0.9638\n",
      "Epoch 16/20\n",
      "39/39 [==============================] - ETA: 0s - loss: 0.0670 - accuracy: 0.9798"
     ]
    },
    {
     "name": "stderr",
     "output_type": "stream",
     "text": [
      "WARNING:absl:Found untraced functions such as _jit_compiled_convolution_op, _jit_compiled_convolution_op while saving (showing 2 of 2). These functions will not be directly callable after loading.\n"
     ]
    },
    {
     "name": "stdout",
     "output_type": "stream",
     "text": [
      "INFO:tensorflow:Assets written to: model-016.model\\assets\n"
     ]
    },
    {
     "name": "stderr",
     "output_type": "stream",
     "text": [
      "INFO:tensorflow:Assets written to: model-016.model\\assets\n"
     ]
    },
    {
     "name": "stdout",
     "output_type": "stream",
     "text": [
      "39/39 [==============================] - 57s 1s/step - loss: 0.0670 - accuracy: 0.9798 - val_loss: 0.1314 - val_accuracy: 0.9565\n",
      "Epoch 17/20\n",
      "39/39 [==============================] - 53s 1s/step - loss: 0.0258 - accuracy: 0.9943 - val_loss: 0.1396 - val_accuracy: 0.9565\n",
      "Epoch 18/20\n",
      "39/39 [==============================] - 56s 1s/step - loss: 0.0188 - accuracy: 0.9943 - val_loss: 0.1747 - val_accuracy: 0.9420\n",
      "Epoch 19/20\n",
      "39/39 [==============================] - 53s 1s/step - loss: 0.0292 - accuracy: 0.9887 - val_loss: 0.1516 - val_accuracy: 0.9638\n",
      "Epoch 20/20\n",
      "39/39 [==============================] - 53s 1s/step - loss: 0.0208 - accuracy: 0.9919 - val_loss: 0.1632 - val_accuracy: 0.9710\n"
     ]
    }
   ],
   "source": [
    "model.compile(loss='categorical_crossentropy',optimizer='adam',metrics=['accuracy'])\n",
    "from sklearn.model_selection import train_test_split\n",
    "train_data,test_data,train_target,test_target=train_test_split(data,target,test_size=0.1)\n",
    "checkpoint=ModelCheckpoint('model-{epoch:03d}.model',monitor='val_loss',verbose=0,save_best_only=True,mode='auto')\n",
    "#history=model.fit(train_data,train_target,epochs=20,callbacks=[checkpoint],validation_split=0.2)\n",
    "history = model.fit(train_data, train_target, epochs=20, callbacks=[checkpoint], validation_data=(test_data, test_target))\n",
    "\n",
    "\n"
   ]
  },
  {
   "cell_type": "code",
   "execution_count": 9,
   "id": "bb5fc199-ef16-42d8-bd4a-c05872d1b9bb",
   "metadata": {},
   "outputs": [],
   "source": [
    "#creating a callback in Keras for model training. Specifically, it is using the ModelCheckpoint callback, which is designed to save the model during training\n",
    "\n",
    "#'model-{epoch:03d}.model': This is the file name template for the saved models. The {epoch:03d} part is a placeholder that gets replaced by the epoch number during training. It ensures that the saved models are named with a three-digit epoch number, helping with proper sorting.\n",
    "\n",
    "#monitor='val_loss': This specifies the metric to monitor for deciding the best model. In this case, it's monitoring the validation loss (val_loss). The model will be saved when the validation loss improves.\n",
    "\n",
    "#verbose=0: This parameter controls the verbosity of the output. Setting it to 0 means silent mode, where no information about the saving process is printed to the console during training.\n",
    "\n",
    "#save_best_only=True: This ensures that only the best model, based on the monitored metric (validation loss in this case), will be saved. If save_best_only is set to True, the callback will only overwrite the saved model file when there is an improvement in the monitored metric.\n",
    "\n",
    "#mode='auto': This parameter defines whether the monitoring metric should be minimized or maximized. Setting it to 'auto' allows Keras to infer the direction based on the metric being monitored.\n"
   ]
  },
  {
   "cell_type": "code",
   "execution_count": 10,
   "id": "8dea0d2a-0fd7-4165-a20f-7155f7d3ea2d",
   "metadata": {},
   "outputs": [],
   "source": [
    "#callbacks=[checkpoint]: This is a list of callbacks to apply during training. In this case, you're using the ModelCheckpoint callback to save the best model.\n"
   ]
  },
  {
   "cell_type": "code",
   "execution_count": 11,
   "id": "e8bcce20-71a6-48ab-b174-2b3d318300c3",
   "metadata": {},
   "outputs": [
    {
     "data": {
      "image/png": "[encoded data removed]",
      "text/plain": [
       "<Figure size 640x480 with 1 Axes>"
      ]
     },
     "metadata": {},
     "output_type": "display_data"
    }
   ],
   "source": [
    "from matplotlib import pyplot as plt\n",
    "plt.plot(history.history['loss'],'r',label='training loss')\n",
    "plt.plot(history.history['val_loss'],label='validation loss')\n",
    "plt.xlabel('#epochs')\n",
    "plt.ylabel('loss')\n",
    "plt.legend()\n",
    "plt.show()\n"
   ]
  },
  {
   "cell_type": "code",
   "execution_count": 12,
   "id": "2cdda868-c215-4765-bb7b-ffb070ee6f05",
   "metadata": {},
   "outputs": [
    {
     "data": {
      "image/png": "[encoded data removed]",
      "text/plain": [
       "<Figure size 640x480 with 1 Axes>"
      ]
     },
     "metadata": {},
     "output_type": "display_data"
    }
   ],
   "source": [
    "\n",
    "plt.plot(history.history['accuracy'],'r',label='training accuracy')\n",
    "plt.plot(history.history['val_accuracy'],label='validation accuracy')\n",
    "plt.xlabel('#epochs')\n",
    "plt.ylabel('accuracy')\n",
    "plt.legend()\n",
    "plt.show()\n",
    "\n"
   ]
  },
  {
   "cell_type": "code",
   "execution_count": null,
   "id": "64422de3-8b1c-469a-b7a9-956ca756a358",
   "metadata": {},
   "outputs": [],
   "source": [
    "model.save('facedetector.h5')"
   ]
  },
  {
   "cell_type": "code",
   "execution_count": null,
   "id": "c7fe7068-badb-4e9a-907a-34a7e8fea398",
   "metadata": {},
   "outputs": [],
   "source": []
  },
  {
   "cell_type": "code",
   "execution_count": null,
   "id": "e0b08fbb-1bda-4419-9dd7-39803451d791",
   "metadata": {},
   "outputs": [],
   "source": []
  },
  {
   "cell_type": "code",
   "execution_count": null,
   "id": "580c4d3c-bcb3-472b-8ab2-7d3bfa94b0a2",
   "metadata": {},
   "outputs": [],
   "source": []
  },
  {
   "cell_type": "code",
   "execution_count": null,
   "id": "0c43087b-87f8-457c-bd2e-b80b5ec85a29",
   "metadata": {},
   "outputs": [],
   "source": []
  },
  {
   "cell_type": "code",
   "execution_count": null,
   "id": "165e0113-30ed-47d5-b2e2-9785da2bfe1a",
   "metadata": {},
   "outputs": [],
   "source": []
  },
  {
   "cell_type": "code",
   "execution_count": null,
   "id": "daa88962-457b-4b43-921a-a74b845f39e4",
   "metadata": {},
   "outputs": [],
   "source": []
  }
 ],
 "metadata": {
  "kernelspec": {
   "display_name": "Python 3 (ipykernel)",
   "language": "python",
   "name": "python3"
  },
  "language_info": {
   "codemirror_mode": {
    "name": "ipython",
    "version": 3
   },
   "file_extension": ".py",
   "mimetype": "text/x-python",
   "name": "python",
   "nbconvert_exporter": "python",
   "pygments_lexer": "ipython3",
   "version": "3.9.18"
  }
 },
 "nbformat": 4,
 "nbformat_minor": 5
}
